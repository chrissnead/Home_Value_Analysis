{
 "cells": [
  {
   "cell_type": "code",
   "execution_count": 1,
   "metadata": {
    "slideshow": {
     "slide_type": "skip"
    }
   },
   "outputs": [],
   "source": [
    "# Import dependencies\n",
    "%matplotlib inline\n",
    "import pandas as pd\n",
    "import matplotlib.pyplot as plt\n",
    "import numpy as np\n",
    "import sklearn"
   ]
  },
  {
   "cell_type": "code",
   "execution_count": 2,
   "metadata": {
    "slideshow": {
     "slide_type": "fragment"
    }
   },
   "outputs": [
    {
     "data": {
      "text/html": [
       "<div>\n",
       "<style scoped>\n",
       "    .dataframe tbody tr th:only-of-type {\n",
       "        vertical-align: middle;\n",
       "    }\n",
       "\n",
       "    .dataframe tbody tr th {\n",
       "        vertical-align: top;\n",
       "    }\n",
       "\n",
       "    .dataframe thead th {\n",
       "        text-align: right;\n",
       "    }\n",
       "</style>\n",
       "<table border=\"1\" class=\"dataframe\">\n",
       "  <thead>\n",
       "    <tr style=\"text-align: right;\">\n",
       "      <th></th>\n",
       "      <th>Sale Date</th>\n",
       "      <th>City</th>\n",
       "      <th>Zip Code</th>\n",
       "      <th>Year Built</th>\n",
       "      <th>Bed</th>\n",
       "      <th>Bath</th>\n",
       "      <th>Sale Price</th>\n",
       "      <th>Square Feet</th>\n",
       "      <th>Lot Size</th>\n",
       "      <th>$/SF</th>\n",
       "      <th>Zip Population</th>\n",
       "      <th>Zip SqMi</th>\n",
       "      <th>Zip Pop Density</th>\n",
       "      <th>Zip Mean HHI</th>\n",
       "    </tr>\n",
       "  </thead>\n",
       "  <tbody>\n",
       "    <tr>\n",
       "      <th>0</th>\n",
       "      <td>2021-06-23</td>\n",
       "      <td>Portland</td>\n",
       "      <td>97212</td>\n",
       "      <td>2013</td>\n",
       "      <td>3</td>\n",
       "      <td>4.0</td>\n",
       "      <td>740000</td>\n",
       "      <td>2030</td>\n",
       "      <td>2613</td>\n",
       "      <td>364.53</td>\n",
       "      <td>26991</td>\n",
       "      <td>2.775</td>\n",
       "      <td>9726.486486</td>\n",
       "      <td>146186</td>\n",
       "    </tr>\n",
       "    <tr>\n",
       "      <th>1</th>\n",
       "      <td>2021-05-21</td>\n",
       "      <td>Portland</td>\n",
       "      <td>97212</td>\n",
       "      <td>2013</td>\n",
       "      <td>5</td>\n",
       "      <td>4.0</td>\n",
       "      <td>1200000</td>\n",
       "      <td>3557</td>\n",
       "      <td>4791</td>\n",
       "      <td>337.36</td>\n",
       "      <td>26991</td>\n",
       "      <td>2.775</td>\n",
       "      <td>9726.486486</td>\n",
       "      <td>146186</td>\n",
       "    </tr>\n",
       "    <tr>\n",
       "      <th>2</th>\n",
       "      <td>2021-05-21</td>\n",
       "      <td>Portland</td>\n",
       "      <td>97212</td>\n",
       "      <td>1952</td>\n",
       "      <td>4</td>\n",
       "      <td>3.0</td>\n",
       "      <td>846000</td>\n",
       "      <td>3122</td>\n",
       "      <td>6098</td>\n",
       "      <td>270.98</td>\n",
       "      <td>26991</td>\n",
       "      <td>2.775</td>\n",
       "      <td>9726.486486</td>\n",
       "      <td>146186</td>\n",
       "    </tr>\n",
       "    <tr>\n",
       "      <th>3</th>\n",
       "      <td>2021-05-28</td>\n",
       "      <td>Portland</td>\n",
       "      <td>97212</td>\n",
       "      <td>2015</td>\n",
       "      <td>4</td>\n",
       "      <td>4.0</td>\n",
       "      <td>1300000</td>\n",
       "      <td>3358</td>\n",
       "      <td>4791</td>\n",
       "      <td>387.14</td>\n",
       "      <td>26991</td>\n",
       "      <td>2.775</td>\n",
       "      <td>9726.486486</td>\n",
       "      <td>146186</td>\n",
       "    </tr>\n",
       "    <tr>\n",
       "      <th>4</th>\n",
       "      <td>2021-06-14</td>\n",
       "      <td>Portland</td>\n",
       "      <td>97212</td>\n",
       "      <td>1957</td>\n",
       "      <td>3</td>\n",
       "      <td>3.0</td>\n",
       "      <td>1300000</td>\n",
       "      <td>3912</td>\n",
       "      <td>7405</td>\n",
       "      <td>332.31</td>\n",
       "      <td>26991</td>\n",
       "      <td>2.775</td>\n",
       "      <td>9726.486486</td>\n",
       "      <td>146186</td>\n",
       "    </tr>\n",
       "    <tr>\n",
       "      <th>...</th>\n",
       "      <td>...</td>\n",
       "      <td>...</td>\n",
       "      <td>...</td>\n",
       "      <td>...</td>\n",
       "      <td>...</td>\n",
       "      <td>...</td>\n",
       "      <td>...</td>\n",
       "      <td>...</td>\n",
       "      <td>...</td>\n",
       "      <td>...</td>\n",
       "      <td>...</td>\n",
       "      <td>...</td>\n",
       "      <td>...</td>\n",
       "      <td>...</td>\n",
       "    </tr>\n",
       "    <tr>\n",
       "      <th>14108</th>\n",
       "      <td>2020-07-28</td>\n",
       "      <td>Portland</td>\n",
       "      <td>97231</td>\n",
       "      <td>2011</td>\n",
       "      <td>4</td>\n",
       "      <td>3.0</td>\n",
       "      <td>610000</td>\n",
       "      <td>2300</td>\n",
       "      <td>435600</td>\n",
       "      <td>265.22</td>\n",
       "      <td>2630</td>\n",
       "      <td>77.670</td>\n",
       "      <td>33.861208</td>\n",
       "      <td>161621</td>\n",
       "    </tr>\n",
       "    <tr>\n",
       "      <th>14109</th>\n",
       "      <td>2020-08-13</td>\n",
       "      <td>Portland</td>\n",
       "      <td>97231</td>\n",
       "      <td>1997</td>\n",
       "      <td>5</td>\n",
       "      <td>3.0</td>\n",
       "      <td>649950</td>\n",
       "      <td>3104</td>\n",
       "      <td>41817</td>\n",
       "      <td>209.39</td>\n",
       "      <td>2630</td>\n",
       "      <td>77.670</td>\n",
       "      <td>33.861208</td>\n",
       "      <td>161621</td>\n",
       "    </tr>\n",
       "    <tr>\n",
       "      <th>14110</th>\n",
       "      <td>2020-12-07</td>\n",
       "      <td>Portland</td>\n",
       "      <td>97231</td>\n",
       "      <td>1993</td>\n",
       "      <td>2</td>\n",
       "      <td>2.0</td>\n",
       "      <td>508000</td>\n",
       "      <td>3918</td>\n",
       "      <td>1742400</td>\n",
       "      <td>129.66</td>\n",
       "      <td>2630</td>\n",
       "      <td>77.670</td>\n",
       "      <td>33.861208</td>\n",
       "      <td>161621</td>\n",
       "    </tr>\n",
       "    <tr>\n",
       "      <th>14111</th>\n",
       "      <td>2021-05-26</td>\n",
       "      <td>Portland</td>\n",
       "      <td>97231</td>\n",
       "      <td>1960</td>\n",
       "      <td>5</td>\n",
       "      <td>2.0</td>\n",
       "      <td>575000</td>\n",
       "      <td>2688</td>\n",
       "      <td>77536</td>\n",
       "      <td>213.91</td>\n",
       "      <td>2630</td>\n",
       "      <td>77.670</td>\n",
       "      <td>33.861208</td>\n",
       "      <td>161621</td>\n",
       "    </tr>\n",
       "    <tr>\n",
       "      <th>14112</th>\n",
       "      <td>2021-06-25</td>\n",
       "      <td>Corbett</td>\n",
       "      <td>97019</td>\n",
       "      <td>2001</td>\n",
       "      <td>3</td>\n",
       "      <td>4.0</td>\n",
       "      <td>1842500</td>\n",
       "      <td>5796</td>\n",
       "      <td>2079117</td>\n",
       "      <td>317.89</td>\n",
       "      <td>3054</td>\n",
       "      <td>162.101</td>\n",
       "      <td>18.840106</td>\n",
       "      <td>99528</td>\n",
       "    </tr>\n",
       "  </tbody>\n",
       "</table>\n",
       "<p>14113 rows × 14 columns</p>\n",
       "</div>"
      ],
      "text/plain": [
       "        Sale Date      City  Zip Code  Year Built  Bed  Bath  Sale Price  \\\n",
       "0      2021-06-23  Portland     97212        2013    3   4.0      740000   \n",
       "1      2021-05-21  Portland     97212        2013    5   4.0     1200000   \n",
       "2      2021-05-21  Portland     97212        1952    4   3.0      846000   \n",
       "3      2021-05-28  Portland     97212        2015    4   4.0     1300000   \n",
       "4      2021-06-14  Portland     97212        1957    3   3.0     1300000   \n",
       "...           ...       ...       ...         ...  ...   ...         ...   \n",
       "14108  2020-07-28  Portland     97231        2011    4   3.0      610000   \n",
       "14109  2020-08-13  Portland     97231        1997    5   3.0      649950   \n",
       "14110  2020-12-07  Portland     97231        1993    2   2.0      508000   \n",
       "14111  2021-05-26  Portland     97231        1960    5   2.0      575000   \n",
       "14112  2021-06-25   Corbett     97019        2001    3   4.0     1842500   \n",
       "\n",
       "       Square Feet  Lot Size    $/SF  Zip Population  Zip SqMi  \\\n",
       "0             2030      2613  364.53           26991     2.775   \n",
       "1             3557      4791  337.36           26991     2.775   \n",
       "2             3122      6098  270.98           26991     2.775   \n",
       "3             3358      4791  387.14           26991     2.775   \n",
       "4             3912      7405  332.31           26991     2.775   \n",
       "...            ...       ...     ...             ...       ...   \n",
       "14108         2300    435600  265.22            2630    77.670   \n",
       "14109         3104     41817  209.39            2630    77.670   \n",
       "14110         3918   1742400  129.66            2630    77.670   \n",
       "14111         2688     77536  213.91            2630    77.670   \n",
       "14112         5796   2079117  317.89            3054   162.101   \n",
       "\n",
       "       Zip Pop Density  Zip Mean HHI  \n",
       "0          9726.486486        146186  \n",
       "1          9726.486486        146186  \n",
       "2          9726.486486        146186  \n",
       "3          9726.486486        146186  \n",
       "4          9726.486486        146186  \n",
       "...                ...           ...  \n",
       "14108        33.861208        161621  \n",
       "14109        33.861208        161621  \n",
       "14110        33.861208        161621  \n",
       "14111        33.861208        161621  \n",
       "14112        18.840106         99528  \n",
       "\n",
       "[14113 rows x 14 columns]"
      ]
     },
     "execution_count": 2,
     "metadata": {},
     "output_type": "execute_result"
    }
   ],
   "source": [
    "# Load Data\n",
    "source = \"Resources/final_housing.csv\"\n",
    "data = pd.read_csv(source)\n",
    "data.tail()\n",
    "data = data.dropna()\n",
    "data"
   ]
  },
  {
   "cell_type": "code",
   "execution_count": 3,
   "metadata": {
    "scrolled": true
   },
   "outputs": [
    {
     "data": {
      "text/plain": [
       "Sale Date           object\n",
       "City                object\n",
       "Zip Code             int64\n",
       "Year Built           int64\n",
       "Bed                  int64\n",
       "Bath               float64\n",
       "Sale Price           int64\n",
       "Square Feet          int64\n",
       "Lot Size             int64\n",
       "$/SF               float64\n",
       "Zip Population       int64\n",
       "Zip SqMi           float64\n",
       "Zip Pop Density    float64\n",
       "Zip Mean HHI         int64\n",
       "dtype: object"
      ]
     },
     "execution_count": 3,
     "metadata": {},
     "output_type": "execute_result"
    }
   ],
   "source": [
    "data.dtypes"
   ]
  },
  {
   "cell_type": "code",
   "execution_count": null,
   "metadata": {},
   "outputs": [],
   "source": []
  },
  {
   "cell_type": "markdown",
   "metadata": {},
   "source": [
    "# multivariable linear regression\n"
   ]
  },
  {
   "cell_type": "code",
   "execution_count": 4,
   "metadata": {},
   "outputs": [],
   "source": [
    "# Define variables\n",
    "X = data[['Square Feet', 'Zip Mean HHI', 'Zip Pop Density','Lot Size','Year Built']]\n",
    "y = data['Sale Price']"
   ]
  },
  {
   "cell_type": "code",
   "execution_count": 5,
   "metadata": {},
   "outputs": [
    {
     "data": {
      "text/plain": [
       "LinearRegression()"
      ]
     },
     "execution_count": 5,
     "metadata": {},
     "output_type": "execute_result"
    }
   ],
   "source": [
    "# Create instance of linear regression model\n",
    "from sklearn.linear_model import LinearRegression\n",
    "classifier = LinearRegression()\n",
    "classifier"
   ]
  },
  {
   "cell_type": "code",
   "execution_count": 6,
   "metadata": {},
   "outputs": [
    {
     "data": {
      "text/plain": [
       "LinearRegression()"
      ]
     },
     "execution_count": 6,
     "metadata": {},
     "output_type": "execute_result"
    }
   ],
   "source": [
    "# Train/fit model\n",
    "classifier.fit(X, y)"
   ]
  },
  {
   "cell_type": "code",
   "execution_count": 7,
   "metadata": {},
   "outputs": [
    {
     "name": "stdout",
     "output_type": "stream",
     "text": [
      "R2 score: 0.7167427182752901\n",
      "Coefficients: [1.70260452e+02 2.09216813e+00 1.69756088e+01 3.63999675e-01\n",
      " 3.78224683e+02]\n"
     ]
    }
   ],
   "source": [
    "# Evaluate model\n",
    "print(f\"R2 score: {classifier.score(X, y)}\")\n",
    "\n",
    "print(f\"Coefficients: { classifier.coef_}\")\n",
    "#X = data[['Square Feet', 'Zip Mean HHI', 'Zip Pop Density','Lot Size','Year Built']]"
   ]
  },
  {
   "cell_type": "code",
   "execution_count": 8,
   "metadata": {
    "slideshow": {
     "slide_type": "fragment"
    }
   },
   "outputs": [],
   "source": [
    "# Run predictive model\n",
    "predictions = classifier.predict(X)"
   ]
  },
  {
   "cell_type": "code",
   "execution_count": 9,
   "metadata": {},
   "outputs": [],
   "source": [
    "# Wil rerun the regression now using train and test just to fulfill the rubric requirements\n",
    "# Split dataset\n",
    "from sklearn.model_selection import train_test_split\n",
    "\n",
    "X_train, X_test, y_train, y_test = train_test_split(X, y, random_state=1)"
   ]
  },
  {
   "cell_type": "code",
   "execution_count": 10,
   "metadata": {},
   "outputs": [
    {
     "data": {
      "text/plain": [
       "LinearRegression()"
      ]
     },
     "execution_count": 10,
     "metadata": {},
     "output_type": "execute_result"
    }
   ],
   "source": [
    "## Create instance of linear regression model\n",
    "from sklearn.linear_model import LinearRegression\n",
    "classifier2 = LinearRegression()\n",
    "classifier2"
   ]
  },
  {
   "cell_type": "code",
   "execution_count": 11,
   "metadata": {},
   "outputs": [
    {
     "data": {
      "text/plain": [
       "LinearRegression()"
      ]
     },
     "execution_count": 11,
     "metadata": {},
     "output_type": "execute_result"
    }
   ],
   "source": [
    "# Train/fit model\n",
    "classifier2.fit(X_train, y_train)"
   ]
  },
  {
   "cell_type": "code",
   "execution_count": 12,
   "metadata": {},
   "outputs": [
    {
     "name": "stdout",
     "output_type": "stream",
     "text": [
      "Training Data Score: 0.7170816459487419\n",
      "Testing Data Score: 0.7155221707434172\n",
      "Coefficients: [1.70260452e+02 2.09216813e+00 1.69756088e+01 3.63999675e-01\n",
      " 3.78224683e+02]\n"
     ]
    }
   ],
   "source": [
    "# Evaluate model\n",
    "print(f\"Training Data Score: {classifier.score(X_train, y_train)}\")\n",
    "print(f\"Testing Data Score: {classifier.score(X_test, y_test)}\")\n",
    "\n",
    "print(f\"Coefficients: { classifier.coef_}\")\n",
    "#X = data[['Square Feet', 'Zip Mean HHI', 'Zip Pop Density','Lot Size','Year Built']]"
   ]
  },
  {
   "cell_type": "markdown",
   "metadata": {},
   "source": []
  },
  {
   "cell_type": "code",
   "execution_count": null,
   "metadata": {
    "slideshow": {
     "slide_type": "subslide"
    }
   },
   "outputs": [],
   "source": []
  },
  {
   "cell_type": "markdown",
   "metadata": {
    "slideshow": {
     "slide_type": "fragment"
    }
   },
   "source": []
  },
  {
   "cell_type": "code",
   "execution_count": null,
   "metadata": {
    "scrolled": true,
    "slideshow": {
     "slide_type": "subslide"
    }
   },
   "outputs": [],
   "source": []
  },
  {
   "cell_type": "code",
   "execution_count": null,
   "metadata": {},
   "outputs": [],
   "source": []
  },
  {
   "cell_type": "code",
   "execution_count": null,
   "metadata": {},
   "outputs": [],
   "source": []
  },
  {
   "cell_type": "code",
   "execution_count": null,
   "metadata": {},
   "outputs": [],
   "source": []
  },
  {
   "cell_type": "code",
   "execution_count": null,
   "metadata": {},
   "outputs": [],
   "source": []
  },
  {
   "cell_type": "code",
   "execution_count": null,
   "metadata": {},
   "outputs": [],
   "source": []
  },
  {
   "cell_type": "code",
   "execution_count": null,
   "metadata": {},
   "outputs": [],
   "source": []
  },
  {
   "cell_type": "markdown",
   "metadata": {},
   "source": []
  },
  {
   "cell_type": "code",
   "execution_count": null,
   "metadata": {},
   "outputs": [],
   "source": []
  },
  {
   "cell_type": "code",
   "execution_count": null,
   "metadata": {},
   "outputs": [],
   "source": []
  },
  {
   "cell_type": "code",
   "execution_count": null,
   "metadata": {},
   "outputs": [],
   "source": []
  }
 ],
 "metadata": {
  "anaconda-cloud": {},
  "kernelspec": {
   "display_name": "Python 3 (ipykernel)",
   "language": "python",
   "name": "python3"
  },
  "language_info": {
   "codemirror_mode": {
    "name": "ipython",
    "version": 3
   },
   "file_extension": ".py",
   "mimetype": "text/x-python",
   "name": "python",
   "nbconvert_exporter": "python",
   "pygments_lexer": "ipython3",
   "version": "3.9.7"
  },
  "varInspector": {
   "cols": {
    "lenName": 16,
    "lenType": 16,
    "lenVar": 40
   },
   "kernels_config": {
    "python": {
     "delete_cmd_postfix": "",
     "delete_cmd_prefix": "del ",
     "library": "var_list.py",
     "varRefreshCmd": "print(var_dic_list())"
    },
    "r": {
     "delete_cmd_postfix": ") ",
     "delete_cmd_prefix": "rm(",
     "library": "var_list.r",
     "varRefreshCmd": "cat(var_dic_list()) "
    }
   },
   "types_to_exclude": [
    "module",
    "function",
    "builtin_function_or_method",
    "instance",
    "_Feature"
   ],
   "window_display": false
  }
 },
 "nbformat": 4,
 "nbformat_minor": 2
}
