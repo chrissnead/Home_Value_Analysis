{
 "cells": [
  {
   "cell_type": "code",
   "execution_count": 91,
   "metadata": {
    "slideshow": {
     "slide_type": "skip"
    }
   },
   "outputs": [],
   "source": [
    "%matplotlib inline\n",
    "import pandas as pd\n",
    "import matplotlib.pyplot as plt\n",
    "import numpy as np\n",
    "import sklearn"
   ]
  },
  {
   "cell_type": "code",
   "execution_count": 92,
   "metadata": {
    "slideshow": {
     "slide_type": "fragment"
    }
   },
   "outputs": [],
   "source": [
    "#Import joined house sale data and zip code data, mockup will be from github, final will be from AWS\n",
    "source = \"Resources/combined_housing.csv\"\n"
   ]
  },
  {
   "cell_type": "code",
   "execution_count": 93,
   "metadata": {},
   "outputs": [
    {
     "data": {
      "text/html": [
       "<div>\n",
       "<style scoped>\n",
       "    .dataframe tbody tr th:only-of-type {\n",
       "        vertical-align: middle;\n",
       "    }\n",
       "\n",
       "    .dataframe tbody tr th {\n",
       "        vertical-align: top;\n",
       "    }\n",
       "\n",
       "    .dataframe thead th {\n",
       "        text-align: right;\n",
       "    }\n",
       "</style>\n",
       "<table border=\"1\" class=\"dataframe\">\n",
       "  <thead>\n",
       "    <tr style=\"text-align: right;\">\n",
       "      <th></th>\n",
       "      <th>Sale Date</th>\n",
       "      <th>City</th>\n",
       "      <th>Zip Code</th>\n",
       "      <th>Year Built</th>\n",
       "      <th>Bed</th>\n",
       "      <th>Bath</th>\n",
       "      <th>Sale Price</th>\n",
       "      <th>Square Feet</th>\n",
       "      <th>Lot Size</th>\n",
       "      <th>Zip Population</th>\n",
       "      <th>Zip SqMi</th>\n",
       "      <th>Zip Pop Density</th>\n",
       "      <th>Zip Mean HHI</th>\n",
       "      <th>$/SqFt</th>\n",
       "    </tr>\n",
       "  </thead>\n",
       "  <tbody>\n",
       "    <tr>\n",
       "      <th>0</th>\n",
       "      <td>2021-06-03</td>\n",
       "      <td>Gresham</td>\n",
       "      <td>97080</td>\n",
       "      <td>1982</td>\n",
       "      <td>4</td>\n",
       "      <td>3.0</td>\n",
       "      <td>512000</td>\n",
       "      <td>2724</td>\n",
       "      <td>9583</td>\n",
       "      <td>31446</td>\n",
       "      <td>23.246</td>\n",
       "      <td>1352.748860</td>\n",
       "      <td>97765.0</td>\n",
       "      <td>187.958884</td>\n",
       "    </tr>\n",
       "    <tr>\n",
       "      <th>1</th>\n",
       "      <td>2021-06-01</td>\n",
       "      <td>Gresham</td>\n",
       "      <td>97080</td>\n",
       "      <td>1967</td>\n",
       "      <td>3</td>\n",
       "      <td>2.0</td>\n",
       "      <td>404200</td>\n",
       "      <td>1150</td>\n",
       "      <td>7000</td>\n",
       "      <td>31446</td>\n",
       "      <td>23.246</td>\n",
       "      <td>1352.748860</td>\n",
       "      <td>97765.0</td>\n",
       "      <td>351.478261</td>\n",
       "    </tr>\n",
       "    <tr>\n",
       "      <th>2</th>\n",
       "      <td>2021-05-20</td>\n",
       "      <td>Gresham</td>\n",
       "      <td>97080</td>\n",
       "      <td>2018</td>\n",
       "      <td>4</td>\n",
       "      <td>2.0</td>\n",
       "      <td>530000</td>\n",
       "      <td>1947</td>\n",
       "      <td>4791</td>\n",
       "      <td>31446</td>\n",
       "      <td>23.246</td>\n",
       "      <td>1352.748860</td>\n",
       "      <td>97765.0</td>\n",
       "      <td>272.213662</td>\n",
       "    </tr>\n",
       "    <tr>\n",
       "      <th>3</th>\n",
       "      <td>2021-05-12</td>\n",
       "      <td>Gresham</td>\n",
       "      <td>97080</td>\n",
       "      <td>2006</td>\n",
       "      <td>3</td>\n",
       "      <td>3.0</td>\n",
       "      <td>419900</td>\n",
       "      <td>1548</td>\n",
       "      <td>5009</td>\n",
       "      <td>31446</td>\n",
       "      <td>23.246</td>\n",
       "      <td>1352.748860</td>\n",
       "      <td>97765.0</td>\n",
       "      <td>271.253230</td>\n",
       "    </tr>\n",
       "    <tr>\n",
       "      <th>4</th>\n",
       "      <td>2021-05-04</td>\n",
       "      <td>Gresham</td>\n",
       "      <td>97080</td>\n",
       "      <td>2017</td>\n",
       "      <td>3</td>\n",
       "      <td>3.0</td>\n",
       "      <td>550000</td>\n",
       "      <td>2209</td>\n",
       "      <td>5227</td>\n",
       "      <td>31446</td>\n",
       "      <td>23.246</td>\n",
       "      <td>1352.748860</td>\n",
       "      <td>97765.0</td>\n",
       "      <td>248.981440</td>\n",
       "    </tr>\n",
       "    <tr>\n",
       "      <th>...</th>\n",
       "      <td>...</td>\n",
       "      <td>...</td>\n",
       "      <td>...</td>\n",
       "      <td>...</td>\n",
       "      <td>...</td>\n",
       "      <td>...</td>\n",
       "      <td>...</td>\n",
       "      <td>...</td>\n",
       "      <td>...</td>\n",
       "      <td>...</td>\n",
       "      <td>...</td>\n",
       "      <td>...</td>\n",
       "      <td>...</td>\n",
       "      <td>...</td>\n",
       "    </tr>\n",
       "    <tr>\n",
       "      <th>18912</th>\n",
       "      <td>2020-12-08</td>\n",
       "      <td>Beaverton</td>\n",
       "      <td>97005</td>\n",
       "      <td>1952</td>\n",
       "      <td>2</td>\n",
       "      <td>1.0</td>\n",
       "      <td>300000</td>\n",
       "      <td>743</td>\n",
       "      <td>4356</td>\n",
       "      <td>10772</td>\n",
       "      <td>4.979</td>\n",
       "      <td>2163.486644</td>\n",
       "      <td>73178.0</td>\n",
       "      <td>403.768506</td>\n",
       "    </tr>\n",
       "    <tr>\n",
       "      <th>18913</th>\n",
       "      <td>2020-07-22</td>\n",
       "      <td>Beaverton</td>\n",
       "      <td>97005</td>\n",
       "      <td>1962</td>\n",
       "      <td>4</td>\n",
       "      <td>2.0</td>\n",
       "      <td>469000</td>\n",
       "      <td>1681</td>\n",
       "      <td>6969</td>\n",
       "      <td>10772</td>\n",
       "      <td>4.979</td>\n",
       "      <td>2163.486644</td>\n",
       "      <td>73178.0</td>\n",
       "      <td>279.000595</td>\n",
       "    </tr>\n",
       "    <tr>\n",
       "      <th>18914</th>\n",
       "      <td>2021-01-29</td>\n",
       "      <td>Beaverton</td>\n",
       "      <td>97005</td>\n",
       "      <td>1971</td>\n",
       "      <td>3</td>\n",
       "      <td>2.0</td>\n",
       "      <td>305000</td>\n",
       "      <td>1387</td>\n",
       "      <td>7841</td>\n",
       "      <td>10772</td>\n",
       "      <td>4.979</td>\n",
       "      <td>2163.486644</td>\n",
       "      <td>73178.0</td>\n",
       "      <td>219.899063</td>\n",
       "    </tr>\n",
       "    <tr>\n",
       "      <th>18915</th>\n",
       "      <td>2021-01-04</td>\n",
       "      <td>Beaverton</td>\n",
       "      <td>97005</td>\n",
       "      <td>2015</td>\n",
       "      <td>3</td>\n",
       "      <td>3.0</td>\n",
       "      <td>429000</td>\n",
       "      <td>1463</td>\n",
       "      <td>1306</td>\n",
       "      <td>10772</td>\n",
       "      <td>4.979</td>\n",
       "      <td>2163.486644</td>\n",
       "      <td>73178.0</td>\n",
       "      <td>293.233083</td>\n",
       "    </tr>\n",
       "    <tr>\n",
       "      <th>18916</th>\n",
       "      <td>2020-12-02</td>\n",
       "      <td>Beaverton</td>\n",
       "      <td>97005</td>\n",
       "      <td>1947</td>\n",
       "      <td>2</td>\n",
       "      <td>1.0</td>\n",
       "      <td>375000</td>\n",
       "      <td>1174</td>\n",
       "      <td>7840</td>\n",
       "      <td>10772</td>\n",
       "      <td>4.979</td>\n",
       "      <td>2163.486644</td>\n",
       "      <td>73178.0</td>\n",
       "      <td>319.420784</td>\n",
       "    </tr>\n",
       "  </tbody>\n",
       "</table>\n",
       "<p>18917 rows × 14 columns</p>\n",
       "</div>"
      ],
      "text/plain": [
       "        Sale Date       City  Zip Code  Year Built  Bed  Bath  Sale Price  \\\n",
       "0      2021-06-03    Gresham     97080        1982    4   3.0      512000   \n",
       "1      2021-06-01    Gresham     97080        1967    3   2.0      404200   \n",
       "2      2021-05-20    Gresham     97080        2018    4   2.0      530000   \n",
       "3      2021-05-12    Gresham     97080        2006    3   3.0      419900   \n",
       "4      2021-05-04    Gresham     97080        2017    3   3.0      550000   \n",
       "...           ...        ...       ...         ...  ...   ...         ...   \n",
       "18912  2020-12-08  Beaverton     97005        1952    2   1.0      300000   \n",
       "18913  2020-07-22  Beaverton     97005        1962    4   2.0      469000   \n",
       "18914  2021-01-29  Beaverton     97005        1971    3   2.0      305000   \n",
       "18915  2021-01-04  Beaverton     97005        2015    3   3.0      429000   \n",
       "18916  2020-12-02  Beaverton     97005        1947    2   1.0      375000   \n",
       "\n",
       "       Square Feet  Lot Size  Zip Population  Zip SqMi  Zip Pop Density  \\\n",
       "0             2724      9583           31446    23.246      1352.748860   \n",
       "1             1150      7000           31446    23.246      1352.748860   \n",
       "2             1947      4791           31446    23.246      1352.748860   \n",
       "3             1548      5009           31446    23.246      1352.748860   \n",
       "4             2209      5227           31446    23.246      1352.748860   \n",
       "...            ...       ...             ...       ...              ...   \n",
       "18912          743      4356           10772     4.979      2163.486644   \n",
       "18913         1681      6969           10772     4.979      2163.486644   \n",
       "18914         1387      7841           10772     4.979      2163.486644   \n",
       "18915         1463      1306           10772     4.979      2163.486644   \n",
       "18916         1174      7840           10772     4.979      2163.486644   \n",
       "\n",
       "       Zip Mean HHI      $/SqFt  \n",
       "0           97765.0  187.958884  \n",
       "1           97765.0  351.478261  \n",
       "2           97765.0  272.213662  \n",
       "3           97765.0  271.253230  \n",
       "4           97765.0  248.981440  \n",
       "...             ...         ...  \n",
       "18912       73178.0  403.768506  \n",
       "18913       73178.0  279.000595  \n",
       "18914       73178.0  219.899063  \n",
       "18915       73178.0  293.233083  \n",
       "18916       73178.0  319.420784  \n",
       "\n",
       "[18917 rows x 14 columns]"
      ]
     },
     "execution_count": 93,
     "metadata": {},
     "output_type": "execute_result"
    }
   ],
   "source": [
    "data = pd.read_csv(source)\n",
    "data.tail()\n",
    "data = data.dropna()\n",
    "data"
   ]
  },
  {
   "cell_type": "code",
   "execution_count": 94,
   "metadata": {},
   "outputs": [
    {
     "data": {
      "text/plain": [
       "Sale Date           object\n",
       "City                object\n",
       "Zip Code             int64\n",
       "Year Built           int64\n",
       "Bed                  int64\n",
       "Bath               float64\n",
       "Sale Price           int64\n",
       "Square Feet          int64\n",
       "Lot Size             int64\n",
       "Zip Population       int64\n",
       "Zip SqMi           float64\n",
       "Zip Pop Density    float64\n",
       "Zip Mean HHI       float64\n",
       "$/SqFt             float64\n",
       "dtype: object"
      ]
     },
     "execution_count": 94,
     "metadata": {},
     "output_type": "execute_result"
    }
   ],
   "source": [
    "data.dtypes\n"
   ]
  },
  {
   "cell_type": "markdown",
   "metadata": {},
   "source": [
    "# multivariate linear regression1\n",
    "We need to clean our data before starting the model. NaN values are throwing errors."
   ]
  },
  {
   "cell_type": "code",
   "execution_count": 105,
   "metadata": {},
   "outputs": [],
   "source": [
    "X = data[['Square Feet', 'Zip Mean HHI', 'Zip Pop Density','Lot Size','Year Built']]\n",
    "y = data['Sale Price']\n"
   ]
  },
  {
   "cell_type": "code",
   "execution_count": 106,
   "metadata": {},
   "outputs": [],
   "source": [
    "from sklearn.model_selection import train_test_split\n",
    "\n",
    "X_train, X_test, y_train, y_test = train_test_split(X, y, random_state=1)"
   ]
  },
  {
   "cell_type": "code",
   "execution_count": 107,
   "metadata": {},
   "outputs": [
    {
     "data": {
      "text/plain": [
       "LinearRegression()"
      ]
     },
     "execution_count": 107,
     "metadata": {},
     "output_type": "execute_result"
    }
   ],
   "source": [
    "from sklearn.linear_model import LinearRegression\n",
    "classifier = LinearRegression()\n",
    "classifier"
   ]
  },
  {
   "cell_type": "code",
   "execution_count": 108,
   "metadata": {},
   "outputs": [
    {
     "data": {
      "text/plain": [
       "LinearRegression()"
      ]
     },
     "execution_count": 108,
     "metadata": {},
     "output_type": "execute_result"
    }
   ],
   "source": [
    "classifier.fit(X_train, y_train)"
   ]
  },
  {
   "cell_type": "code",
   "execution_count": 109,
   "metadata": {
    "slideshow": {
     "slide_type": "fragment"
    }
   },
   "outputs": [
    {
     "name": "stdout",
     "output_type": "stream",
     "text": [
      "Training Data Score: 0.694493401442263\n",
      "Testing Data Score: 0.7029999926662385\n",
      "Coefficients: [ 1.84674639e+02  1.87837823e+00  1.08901261e+01  6.70186717e-05\n",
      " -8.05325970e+01]\n"
     ]
    }
   ],
   "source": [
    "print(f\"Training Data Score: {classifier.score(X_train, y_train)}\")\n",
    "print(f\"Testing Data Score: {classifier.score(X_test, y_test)}\")\n",
    "\n",
    "print(f\"Coefficients: { classifier.coef_}\")\n",
    "#X = data[['Square Feet', 'Zip Mean HHI', 'Zip Pop Density','Lot Size','Bed','Bath', 'Year Built']]"
   ]
  },
  {
   "cell_type": "code",
   "execution_count": null,
   "metadata": {},
   "outputs": [],
   "source": []
  },
  {
   "cell_type": "code",
   "execution_count": null,
   "metadata": {},
   "outputs": [],
   "source": []
  },
  {
   "cell_type": "code",
   "execution_count": null,
   "metadata": {},
   "outputs": [],
   "source": []
  },
  {
   "cell_type": "code",
   "execution_count": null,
   "metadata": {},
   "outputs": [],
   "source": []
  },
  {
   "cell_type": "markdown",
   "metadata": {},
   "source": [
    "# multivariate linear regression residuals"
   ]
  },
  {
   "cell_type": "code",
   "execution_count": 33,
   "metadata": {
    "slideshow": {
     "slide_type": "subslide"
    }
   },
   "outputs": [
    {
     "name": "stdout",
     "output_type": "stream",
     "text": [
      "R2 Score: 0.10853678457481741\n"
     ]
    }
   ],
   "source": [
    "from sklearn.linear_model import LinearRegression\n",
    "model = LinearRegression()\n",
    "\n",
    "# Fitting our model with all our features in X\n",
    "model.fit(X, y)\n",
    "\n",
    "score = model.score(X, y)\n",
    "print(f\"R2 Score: {score}\")"
   ]
  },
  {
   "cell_type": "markdown",
   "metadata": {
    "slideshow": {
     "slide_type": "fragment"
    }
   },
   "source": [
    "Residuals are the difference between the true values of y and the predicted values of y.\n",
    "\n",
    "Source: [Interpreting Residual Plots](http://docs.statwing.com/interpreting-residual-plots-to-improve-your-regression/)"
   ]
  },
  {
   "cell_type": "code",
   "execution_count": 34,
   "metadata": {
    "scrolled": true,
    "slideshow": {
     "slide_type": "subslide"
    }
   },
   "outputs": [
    {
     "data": {
      "image/png": "[encoded data removed]",
      "text/plain": [
       "<Figure size 432x288 with 1 Axes>"
      ]
     },
     "metadata": {
      "needs_background": "light"
     },
     "output_type": "display_data"
    }
   ],
   "source": [
    "predictions = model.predict(X)\n",
    "# Plot Residuals\n",
    "plt.scatter(predictions, predictions - y)\n",
    "plt.hlines(y=0, xmin=predictions.min(), xmax=predictions.max())\n",
    "plt.show()"
   ]
  },
  {
   "cell_type": "code",
   "execution_count": 35,
   "metadata": {},
   "outputs": [
    {
     "name": "stdout",
     "output_type": "stream",
     "text": [
      "True output: 512000\n",
      "Predicted output: 689350.2845494867\n",
      "Prediction Error: 177350.2845494867\n"
     ]
    }
   ],
   "source": [
    "predictions = model.predict(X)\n",
    "print(f\"True output: {y[0]}\")\n",
    "print(f\"Predicted output: {predictions[0]}\")\n",
    "print(f\"Prediction Error: {predictions[0]-y[0]}\")"
   ]
  },
  {
   "cell_type": "code",
   "execution_count": 36,
   "metadata": {},
   "outputs": [],
   "source": [
    "x_min = X.min()\n",
    "x_max = X.max()"
   ]
  },
  {
   "cell_type": "code",
   "execution_count": 37,
   "metadata": {},
   "outputs": [],
   "source": [
    "y_min_actual = y.min()\n",
    "y_max_actual = y.max()"
   ]
  },
  {
   "cell_type": "code",
   "execution_count": 38,
   "metadata": {},
   "outputs": [
    {
     "data": {
      "text/plain": [
       "[<matplotlib.lines.Line2D at 0x214bfdbff40>]"
      ]
     },
     "execution_count": 38,
     "metadata": {},
     "output_type": "execute_result"
    },
    {
     "data": {
      "image/png": "[encoded data removed]",
      "text/plain": [
       "<Figure size 432x288 with 1 Axes>"
      ]
     },
     "metadata": {
      "needs_background": "light"
     },
     "output_type": "display_data"
    }
   ],
   "source": [
    "plt.scatter(X, y, c='blue')\n",
    "plt.plot([x_min, x_max], [y_min_actual, y_max_actual], c='red')"
   ]
  },
  {
   "cell_type": "code",
   "execution_count": null,
   "metadata": {},
   "outputs": [],
   "source": []
  },
  {
   "cell_type": "code",
   "execution_count": 109,
   "metadata": {},
   "outputs": [
    {
     "name": "stdout",
     "output_type": "stream",
     "text": [
      "True output: 512000\n",
      "Predicted output: 549873.7619689903\n",
      "Prediction Error: 37873.76196899032\n"
     ]
    }
   ],
   "source": []
  },
  {
   "cell_type": "markdown",
   "metadata": {},
   "source": [
    "# unsupervised machine learning"
   ]
  },
  {
   "cell_type": "code",
   "execution_count": null,
   "metadata": {},
   "outputs": [],
   "source": []
  },
  {
   "cell_type": "code",
   "execution_count": null,
   "metadata": {},
   "outputs": [],
   "source": []
  },
  {
   "cell_type": "code",
   "execution_count": null,
   "metadata": {},
   "outputs": [],
   "source": []
  }
 ],
 "metadata": {
  "anaconda-cloud": {},
  "kernelspec": {
   "display_name": "Python 3 (ipykernel)",
   "language": "python",
   "name": "python3"
  },
  "language_info": {
   "codemirror_mode": {
    "name": "ipython",
    "version": 3
   },
   "file_extension": ".py",
   "mimetype": "text/x-python",
   "name": "python",
   "nbconvert_exporter": "python",
   "pygments_lexer": "ipython3",
   "version": "3.9.7"
  },
  "varInspector": {
   "cols": {
    "lenName": 16,
    "lenType": 16,
    "lenVar": 40
   },
   "kernels_config": {
    "python": {
     "delete_cmd_postfix": "",
     "delete_cmd_prefix": "del ",
     "library": "var_list.py",
     "varRefreshCmd": "print(var_dic_list())"
    },
    "r": {
     "delete_cmd_postfix": ") ",
     "delete_cmd_prefix": "rm(",
     "library": "var_list.r",
     "varRefreshCmd": "cat(var_dic_list()) "
    }
   },
   "types_to_exclude": [
    "module",
    "function",
    "builtin_function_or_method",
    "instance",
    "_Feature"
   ],
   "window_display": false
  }
 },
 "nbformat": 4,
 "nbformat_minor": 2
}
