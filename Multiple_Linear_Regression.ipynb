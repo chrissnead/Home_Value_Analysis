{
 "cells": [
  {
   "cell_type": "code",
   "execution_count": 71,
   "metadata": {
    "slideshow": {
     "slide_type": "skip"
    }
   },
   "outputs": [],
   "source": [
    "%matplotlib inline\n",
    "import pandas as pd\n",
    "import matplotlib.pyplot as plt\n",
    "import numpy as np\n",
    "import sklearn"
   ]
  },
  {
   "cell_type": "code",
   "execution_count": 72,
   "metadata": {
    "slideshow": {
     "slide_type": "fragment"
    }
   },
   "outputs": [],
   "source": [
    "#Import joined house sale data and zip code data, mockup will be from github, final will be from AWS\n",
    "source = \"Resources/combined.csv\"\n",
    "# eventually it will be house sales and zip code data combined."
   ]
  },
  {
   "cell_type": "code",
   "execution_count": 80,
   "metadata": {},
   "outputs": [
    {
     "data": {
      "text/html": [
       "<div>\n",
       "<style scoped>\n",
       "    .dataframe tbody tr th:only-of-type {\n",
       "        vertical-align: middle;\n",
       "    }\n",
       "\n",
       "    .dataframe tbody tr th {\n",
       "        vertical-align: top;\n",
       "    }\n",
       "\n",
       "    .dataframe thead th {\n",
       "        text-align: right;\n",
       "    }\n",
       "</style>\n",
       "<table border=\"1\" class=\"dataframe\">\n",
       "  <thead>\n",
       "    <tr style=\"text-align: right;\">\n",
       "      <th></th>\n",
       "      <th>Unnamed: 0</th>\n",
       "      <th>Sale Date</th>\n",
       "      <th>Home Type</th>\n",
       "      <th>City</th>\n",
       "      <th>Zip Code</th>\n",
       "      <th>Year Built</th>\n",
       "      <th>Bed</th>\n",
       "      <th>Bath</th>\n",
       "      <th>Sale Price</th>\n",
       "      <th>Property Tax Rate</th>\n",
       "      <th>Square Feet</th>\n",
       "      <th>Lot Size</th>\n",
       "      <th>PO_NAME</th>\n",
       "      <th>STATE</th>\n",
       "      <th>Zip Population</th>\n",
       "      <th>Zip SqMi</th>\n",
       "      <th>Zip Pop Density</th>\n",
       "      <th>Zip Mean HHI</th>\n",
       "    </tr>\n",
       "  </thead>\n",
       "  <tbody>\n",
       "    <tr>\n",
       "      <th>0</th>\n",
       "      <td>0</td>\n",
       "      <td>2021-06-03</td>\n",
       "      <td>Single Family</td>\n",
       "      <td>Gresham</td>\n",
       "      <td>97080</td>\n",
       "      <td>1982</td>\n",
       "      <td>4</td>\n",
       "      <td>3.0</td>\n",
       "      <td>512000</td>\n",
       "      <td>1.12</td>\n",
       "      <td>2724</td>\n",
       "      <td>9583</td>\n",
       "      <td>Gresham</td>\n",
       "      <td>OR</td>\n",
       "      <td>31446</td>\n",
       "      <td>23.246</td>\n",
       "      <td>1352.748860</td>\n",
       "      <td>97765.0</td>\n",
       "    </tr>\n",
       "    <tr>\n",
       "      <th>1</th>\n",
       "      <td>1</td>\n",
       "      <td>2021-06-01</td>\n",
       "      <td>Single Family</td>\n",
       "      <td>Gresham</td>\n",
       "      <td>97080</td>\n",
       "      <td>1967</td>\n",
       "      <td>3</td>\n",
       "      <td>2.0</td>\n",
       "      <td>404200</td>\n",
       "      <td>1.12</td>\n",
       "      <td>1150</td>\n",
       "      <td>7000</td>\n",
       "      <td>Gresham</td>\n",
       "      <td>OR</td>\n",
       "      <td>31446</td>\n",
       "      <td>23.246</td>\n",
       "      <td>1352.748860</td>\n",
       "      <td>97765.0</td>\n",
       "    </tr>\n",
       "    <tr>\n",
       "      <th>2</th>\n",
       "      <td>2</td>\n",
       "      <td>2021-05-20</td>\n",
       "      <td>Single Family</td>\n",
       "      <td>Gresham</td>\n",
       "      <td>97080</td>\n",
       "      <td>2018</td>\n",
       "      <td>4</td>\n",
       "      <td>2.0</td>\n",
       "      <td>530000</td>\n",
       "      <td>1.12</td>\n",
       "      <td>1947</td>\n",
       "      <td>4791</td>\n",
       "      <td>Gresham</td>\n",
       "      <td>OR</td>\n",
       "      <td>31446</td>\n",
       "      <td>23.246</td>\n",
       "      <td>1352.748860</td>\n",
       "      <td>97765.0</td>\n",
       "    </tr>\n",
       "    <tr>\n",
       "      <th>3</th>\n",
       "      <td>3</td>\n",
       "      <td>2021-05-12</td>\n",
       "      <td>Single Family</td>\n",
       "      <td>Gresham</td>\n",
       "      <td>97080</td>\n",
       "      <td>2006</td>\n",
       "      <td>3</td>\n",
       "      <td>3.0</td>\n",
       "      <td>419900</td>\n",
       "      <td>1.12</td>\n",
       "      <td>1548</td>\n",
       "      <td>5009</td>\n",
       "      <td>Gresham</td>\n",
       "      <td>OR</td>\n",
       "      <td>31446</td>\n",
       "      <td>23.246</td>\n",
       "      <td>1352.748860</td>\n",
       "      <td>97765.0</td>\n",
       "    </tr>\n",
       "    <tr>\n",
       "      <th>4</th>\n",
       "      <td>4</td>\n",
       "      <td>2021-05-04</td>\n",
       "      <td>Single Family</td>\n",
       "      <td>Gresham</td>\n",
       "      <td>97080</td>\n",
       "      <td>2017</td>\n",
       "      <td>3</td>\n",
       "      <td>3.0</td>\n",
       "      <td>550000</td>\n",
       "      <td>1.12</td>\n",
       "      <td>2209</td>\n",
       "      <td>5227</td>\n",
       "      <td>Gresham</td>\n",
       "      <td>OR</td>\n",
       "      <td>31446</td>\n",
       "      <td>23.246</td>\n",
       "      <td>1352.748860</td>\n",
       "      <td>97765.0</td>\n",
       "    </tr>\n",
       "    <tr>\n",
       "      <th>...</th>\n",
       "      <td>...</td>\n",
       "      <td>...</td>\n",
       "      <td>...</td>\n",
       "      <td>...</td>\n",
       "      <td>...</td>\n",
       "      <td>...</td>\n",
       "      <td>...</td>\n",
       "      <td>...</td>\n",
       "      <td>...</td>\n",
       "      <td>...</td>\n",
       "      <td>...</td>\n",
       "      <td>...</td>\n",
       "      <td>...</td>\n",
       "      <td>...</td>\n",
       "      <td>...</td>\n",
       "      <td>...</td>\n",
       "      <td>...</td>\n",
       "      <td>...</td>\n",
       "    </tr>\n",
       "    <tr>\n",
       "      <th>20643</th>\n",
       "      <td>20643</td>\n",
       "      <td>2020-12-08</td>\n",
       "      <td>Single Family</td>\n",
       "      <td>Beaverton</td>\n",
       "      <td>97005</td>\n",
       "      <td>1952</td>\n",
       "      <td>2</td>\n",
       "      <td>1.0</td>\n",
       "      <td>300000</td>\n",
       "      <td>1.13</td>\n",
       "      <td>743</td>\n",
       "      <td>4356</td>\n",
       "      <td>Beaverton</td>\n",
       "      <td>OR</td>\n",
       "      <td>10772</td>\n",
       "      <td>4.979</td>\n",
       "      <td>2163.486644</td>\n",
       "      <td>73178.0</td>\n",
       "    </tr>\n",
       "    <tr>\n",
       "      <th>20644</th>\n",
       "      <td>20644</td>\n",
       "      <td>2020-07-22</td>\n",
       "      <td>Single Family</td>\n",
       "      <td>Beaverton</td>\n",
       "      <td>97005</td>\n",
       "      <td>1962</td>\n",
       "      <td>4</td>\n",
       "      <td>2.0</td>\n",
       "      <td>469000</td>\n",
       "      <td>1.13</td>\n",
       "      <td>1681</td>\n",
       "      <td>6969</td>\n",
       "      <td>Beaverton</td>\n",
       "      <td>OR</td>\n",
       "      <td>10772</td>\n",
       "      <td>4.979</td>\n",
       "      <td>2163.486644</td>\n",
       "      <td>73178.0</td>\n",
       "    </tr>\n",
       "    <tr>\n",
       "      <th>20645</th>\n",
       "      <td>20645</td>\n",
       "      <td>2021-01-29</td>\n",
       "      <td>Single Family</td>\n",
       "      <td>Beaverton</td>\n",
       "      <td>97005</td>\n",
       "      <td>1971</td>\n",
       "      <td>3</td>\n",
       "      <td>2.0</td>\n",
       "      <td>305000</td>\n",
       "      <td>1.13</td>\n",
       "      <td>1387</td>\n",
       "      <td>7841</td>\n",
       "      <td>Beaverton</td>\n",
       "      <td>OR</td>\n",
       "      <td>10772</td>\n",
       "      <td>4.979</td>\n",
       "      <td>2163.486644</td>\n",
       "      <td>73178.0</td>\n",
       "    </tr>\n",
       "    <tr>\n",
       "      <th>20646</th>\n",
       "      <td>20646</td>\n",
       "      <td>2021-01-04</td>\n",
       "      <td>Single Family</td>\n",
       "      <td>Beaverton</td>\n",
       "      <td>97005</td>\n",
       "      <td>2015</td>\n",
       "      <td>3</td>\n",
       "      <td>3.0</td>\n",
       "      <td>429000</td>\n",
       "      <td>1.13</td>\n",
       "      <td>1463</td>\n",
       "      <td>1306</td>\n",
       "      <td>Beaverton</td>\n",
       "      <td>OR</td>\n",
       "      <td>10772</td>\n",
       "      <td>4.979</td>\n",
       "      <td>2163.486644</td>\n",
       "      <td>73178.0</td>\n",
       "    </tr>\n",
       "    <tr>\n",
       "      <th>20647</th>\n",
       "      <td>20647</td>\n",
       "      <td>2020-12-02</td>\n",
       "      <td>Single Family</td>\n",
       "      <td>Beaverton</td>\n",
       "      <td>97005</td>\n",
       "      <td>1947</td>\n",
       "      <td>2</td>\n",
       "      <td>1.0</td>\n",
       "      <td>375000</td>\n",
       "      <td>1.13</td>\n",
       "      <td>1174</td>\n",
       "      <td>7840</td>\n",
       "      <td>Beaverton</td>\n",
       "      <td>OR</td>\n",
       "      <td>10772</td>\n",
       "      <td>4.979</td>\n",
       "      <td>2163.486644</td>\n",
       "      <td>73178.0</td>\n",
       "    </tr>\n",
       "  </tbody>\n",
       "</table>\n",
       "<p>20042 rows × 18 columns</p>\n",
       "</div>"
      ],
      "text/plain": [
       "       Unnamed: 0   Sale Date      Home Type       City  Zip Code  Year Built  \\\n",
       "0               0  2021-06-03  Single Family    Gresham     97080        1982   \n",
       "1               1  2021-06-01  Single Family    Gresham     97080        1967   \n",
       "2               2  2021-05-20  Single Family    Gresham     97080        2018   \n",
       "3               3  2021-05-12  Single Family    Gresham     97080        2006   \n",
       "4               4  2021-05-04  Single Family    Gresham     97080        2017   \n",
       "...           ...         ...            ...        ...       ...         ...   \n",
       "20643       20643  2020-12-08  Single Family  Beaverton     97005        1952   \n",
       "20644       20644  2020-07-22  Single Family  Beaverton     97005        1962   \n",
       "20645       20645  2021-01-29  Single Family  Beaverton     97005        1971   \n",
       "20646       20646  2021-01-04  Single Family  Beaverton     97005        2015   \n",
       "20647       20647  2020-12-02  Single Family  Beaverton     97005        1947   \n",
       "\n",
       "       Bed  Bath  Sale Price  Property Tax Rate  Square Feet  Lot Size  \\\n",
       "0        4   3.0      512000               1.12         2724      9583   \n",
       "1        3   2.0      404200               1.12         1150      7000   \n",
       "2        4   2.0      530000               1.12         1947      4791   \n",
       "3        3   3.0      419900               1.12         1548      5009   \n",
       "4        3   3.0      550000               1.12         2209      5227   \n",
       "...    ...   ...         ...                ...          ...       ...   \n",
       "20643    2   1.0      300000               1.13          743      4356   \n",
       "20644    4   2.0      469000               1.13         1681      6969   \n",
       "20645    3   2.0      305000               1.13         1387      7841   \n",
       "20646    3   3.0      429000               1.13         1463      1306   \n",
       "20647    2   1.0      375000               1.13         1174      7840   \n",
       "\n",
       "         PO_NAME STATE  Zip Population  Zip SqMi  Zip Pop Density  \\\n",
       "0        Gresham    OR           31446    23.246      1352.748860   \n",
       "1        Gresham    OR           31446    23.246      1352.748860   \n",
       "2        Gresham    OR           31446    23.246      1352.748860   \n",
       "3        Gresham    OR           31446    23.246      1352.748860   \n",
       "4        Gresham    OR           31446    23.246      1352.748860   \n",
       "...          ...   ...             ...       ...              ...   \n",
       "20643  Beaverton    OR           10772     4.979      2163.486644   \n",
       "20644  Beaverton    OR           10772     4.979      2163.486644   \n",
       "20645  Beaverton    OR           10772     4.979      2163.486644   \n",
       "20646  Beaverton    OR           10772     4.979      2163.486644   \n",
       "20647  Beaverton    OR           10772     4.979      2163.486644   \n",
       "\n",
       "       Zip Mean HHI  \n",
       "0           97765.0  \n",
       "1           97765.0  \n",
       "2           97765.0  \n",
       "3           97765.0  \n",
       "4           97765.0  \n",
       "...             ...  \n",
       "20643       73178.0  \n",
       "20644       73178.0  \n",
       "20645       73178.0  \n",
       "20646       73178.0  \n",
       "20647       73178.0  \n",
       "\n",
       "[20042 rows x 18 columns]"
      ]
     },
     "execution_count": 80,
     "metadata": {},
     "output_type": "execute_result"
    }
   ],
   "source": [
    "data = pd.read_csv(source)\n",
    "data.tail()\n",
    "data = data.dropna()\n",
    "data"
   ]
  },
  {
   "cell_type": "code",
   "execution_count": 81,
   "metadata": {},
   "outputs": [
    {
     "data": {
      "text/plain": [
       "Unnamed: 0             int64\n",
       "Sale Date             object\n",
       "Home Type             object\n",
       "City                  object\n",
       "Zip Code               int64\n",
       "Year Built             int64\n",
       "Bed                    int64\n",
       "Bath                 float64\n",
       "Sale Price             int64\n",
       "Property Tax Rate    float64\n",
       "Square Feet            int64\n",
       "Lot Size               int64\n",
       "PO_NAME               object\n",
       "STATE                 object\n",
       "Zip Population         int64\n",
       "Zip SqMi             float64\n",
       "Zip Pop Density      float64\n",
       "Zip Mean HHI         float64\n",
       "dtype: object"
      ]
     },
     "execution_count": 81,
     "metadata": {},
     "output_type": "execute_result"
    }
   ],
   "source": [
    "data.dtypes\n"
   ]
  },
  {
   "cell_type": "markdown",
   "metadata": {},
   "source": [
    "# multivariate linear regression1\n",
    "We need to clean our data before starting the model. NaN values are throwing errors."
   ]
  },
  {
   "cell_type": "code",
   "execution_count": 98,
   "metadata": {},
   "outputs": [],
   "source": [
    "X = data[['Zip Mean HHI']]\n",
    "y = data['Sale Price']\n"
   ]
  },
  {
   "cell_type": "code",
   "execution_count": 99,
   "metadata": {},
   "outputs": [],
   "source": [
    "from sklearn.model_selection import train_test_split\n",
    "\n",
    "X_train, X_test, y_train, y_test = train_test_split(X, y, random_state=1)"
   ]
  },
  {
   "cell_type": "code",
   "execution_count": 100,
   "metadata": {},
   "outputs": [
    {
     "data": {
      "text/plain": [
       "LinearRegression()"
      ]
     },
     "execution_count": 100,
     "metadata": {},
     "output_type": "execute_result"
    }
   ],
   "source": [
    "from sklearn.linear_model import LinearRegression\n",
    "classifier = LinearRegression()\n",
    "classifier"
   ]
  },
  {
   "cell_type": "code",
   "execution_count": 101,
   "metadata": {},
   "outputs": [
    {
     "data": {
      "text/plain": [
       "LinearRegression()"
      ]
     },
     "execution_count": 101,
     "metadata": {},
     "output_type": "execute_result"
    }
   ],
   "source": [
    "classifier.fit(X_train, y_train)"
   ]
  },
  {
   "cell_type": "code",
   "execution_count": 102,
   "metadata": {
    "slideshow": {
     "slide_type": "fragment"
    }
   },
   "outputs": [
    {
     "name": "stdout",
     "output_type": "stream",
     "text": [
      "Training Data Score: 0.16001594673487618\n",
      "Testing Data Score: 0.23007554862183233\n",
      "Coefficients: [5.34403431]\n"
     ]
    }
   ],
   "source": [
    "print(f\"Training Data Score: {classifier.score(X_train, y_train)}\")\n",
    "print(f\"Testing Data Score: {classifier.score(X_test, y_test)}\")\n",
    "\n",
    "print(f\"Coefficients: { classifier.coef_}\")\n",
    "#X = data[['Square Feet', 'Zip Mean HHI', 'Zip Pop Density','Lot Size','Bed','Bath', 'Year Built']]"
   ]
  },
  {
   "cell_type": "code",
   "execution_count": null,
   "metadata": {},
   "outputs": [],
   "source": []
  },
  {
   "cell_type": "code",
   "execution_count": null,
   "metadata": {},
   "outputs": [],
   "source": []
  },
  {
   "cell_type": "code",
   "execution_count": null,
   "metadata": {},
   "outputs": [],
   "source": []
  },
  {
   "cell_type": "code",
   "execution_count": null,
   "metadata": {},
   "outputs": [],
   "source": []
  },
  {
   "cell_type": "markdown",
   "metadata": {},
   "source": [
    "# multivariate linear regression residuals"
   ]
  },
  {
   "cell_type": "code",
   "execution_count": 103,
   "metadata": {
    "slideshow": {
     "slide_type": "subslide"
    }
   },
   "outputs": [
    {
     "name": "stdout",
     "output_type": "stream",
     "text": [
      "R2 Score: 0.17564443738544\n"
     ]
    }
   ],
   "source": [
    "from sklearn.linear_model import LinearRegression\n",
    "model = LinearRegression()\n",
    "\n",
    "# Fitting our model with all our features in X\n",
    "model.fit(X, y)\n",
    "\n",
    "score = model.score(X, y)\n",
    "print(f\"R2 Score: {score}\")"
   ]
  },
  {
   "cell_type": "markdown",
   "metadata": {
    "slideshow": {
     "slide_type": "fragment"
    }
   },
   "source": [
    "Residuals are the difference between the true values of y and the predicted values of y.\n",
    "\n",
    "Source: [Interpreting Residual Plots](http://docs.statwing.com/interpreting-residual-plots-to-improve-your-regression/)"
   ]
  },
  {
   "cell_type": "code",
   "execution_count": 104,
   "metadata": {
    "scrolled": true,
    "slideshow": {
     "slide_type": "subslide"
    }
   },
   "outputs": [
    {
     "data": {
      "image/png": "[encoded data removed]",
      "text/plain": [
       "<Figure size 432x288 with 1 Axes>"
      ]
     },
     "metadata": {
      "needs_background": "light"
     },
     "output_type": "display_data"
    }
   ],
   "source": [
    "predictions = model.predict(X)\n",
    "# Plot Residuals\n",
    "plt.scatter(predictions, predictions - y)\n",
    "plt.hlines(y=0, xmin=predictions.min(), xmax=predictions.max())\n",
    "plt.show()"
   ]
  },
  {
   "cell_type": "code",
   "execution_count": 110,
   "metadata": {},
   "outputs": [
    {
     "name": "stdout",
     "output_type": "stream",
     "text": [
      "True output: 512000\n",
      "Predicted output: 549873.7619689903\n",
      "Prediction Error: 37873.76196899032\n"
     ]
    }
   ],
   "source": [
    "predictions = model.predict(X)\n",
    "print(f\"True output: {y[0]}\")\n",
    "print(f\"Predicted output: {predictions[0]}\")\n",
    "print(f\"Prediction Error: {predictions[0]-y[0]}\")"
   ]
  },
  {
   "cell_type": "code",
   "execution_count": 111,
   "metadata": {},
   "outputs": [],
   "source": [
    "x_min = X.min()\n",
    "x_max = X.max()"
   ]
  },
  {
   "cell_type": "code",
   "execution_count": 112,
   "metadata": {},
   "outputs": [],
   "source": [
    "y_min_actual = y.min()\n",
    "y_max_actual = y.max()"
   ]
  },
  {
   "cell_type": "code",
   "execution_count": 113,
   "metadata": {},
   "outputs": [
    {
     "data": {
      "text/plain": [
       "[<matplotlib.lines.Line2D at 0x18dc0b8b0d0>]"
      ]
     },
     "execution_count": 113,
     "metadata": {},
     "output_type": "execute_result"
    },
    {
     "data": {
      "image/png": "[encoded data removed]",
      "text/plain": [
       "<Figure size 432x288 with 1 Axes>"
      ]
     },
     "metadata": {
      "needs_background": "light"
     },
     "output_type": "display_data"
    }
   ],
   "source": [
    "plt.scatter(X, y, c='blue')\n",
    "plt.plot([x_min, x_max], [y_min_actual, y_max_actual], c='red')"
   ]
  },
  {
   "cell_type": "code",
   "execution_count": null,
   "metadata": {},
   "outputs": [],
   "source": []
  },
  {
   "cell_type": "code",
   "execution_count": 109,
   "metadata": {},
   "outputs": [
    {
     "name": "stdout",
     "output_type": "stream",
     "text": [
      "True output: 512000\n",
      "Predicted output: 549873.7619689903\n",
      "Prediction Error: 37873.76196899032\n"
     ]
    }
   ],
   "source": []
  },
  {
   "cell_type": "markdown",
   "metadata": {},
   "source": [
    "# unsupervised machine learning"
   ]
  },
  {
   "cell_type": "code",
   "execution_count": null,
   "metadata": {},
   "outputs": [],
   "source": []
  },
  {
   "cell_type": "code",
   "execution_count": null,
   "metadata": {},
   "outputs": [],
   "source": []
  },
  {
   "cell_type": "code",
   "execution_count": null,
   "metadata": {},
   "outputs": [],
   "source": []
  }
 ],
 "metadata": {
  "anaconda-cloud": {},
  "kernelspec": {
   "display_name": "Python 3 (ipykernel)",
   "language": "python",
   "name": "python3"
  },
  "language_info": {
   "codemirror_mode": {
    "name": "ipython",
    "version": 3
   },
   "file_extension": ".py",
   "mimetype": "text/x-python",
   "name": "python",
   "nbconvert_exporter": "python",
   "pygments_lexer": "ipython3",
   "version": "3.9.7"
  },
  "varInspector": {
   "cols": {
    "lenName": 16,
    "lenType": 16,
    "lenVar": 40
   },
   "kernels_config": {
    "python": {
     "delete_cmd_postfix": "",
     "delete_cmd_prefix": "del ",
     "library": "var_list.py",
     "varRefreshCmd": "print(var_dic_list())"
    },
    "r": {
     "delete_cmd_postfix": ") ",
     "delete_cmd_prefix": "rm(",
     "library": "var_list.r",
     "varRefreshCmd": "cat(var_dic_list()) "
    }
   },
   "types_to_exclude": [
    "module",
    "function",
    "builtin_function_or_method",
    "instance",
    "_Feature"
   ],
   "window_display": false
  }
 },
 "nbformat": 4,
 "nbformat_minor": 2
}
