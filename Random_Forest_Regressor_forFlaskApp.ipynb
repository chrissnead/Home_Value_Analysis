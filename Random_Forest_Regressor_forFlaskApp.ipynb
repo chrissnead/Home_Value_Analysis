{
 "cells": [
  {
   "cell_type": "code",
   "execution_count": 18,
   "metadata": {
    "slideshow": {
     "slide_type": "skip"
    }
   },
   "outputs": [],
   "source": [
    "# Import dependencies\n",
    "%matplotlib inline\n",
    "import pandas as pd\n",
    "import matplotlib.pyplot as plt\n",
    "import numpy as np\n",
    "import sklearn\n",
    "from path import Path\n",
    "from sklearn.ensemble import RandomForestRegressor\n",
    "from sklearn.preprocessing import StandardScaler\n",
    "from sklearn.model_selection import train_test_split\n",
    "from sklearn.metrics import confusion_matrix, accuracy_score, classification_report\n",
    "import pickle\n",
    "import requests\n",
    "import json"
   ]
  },
  {
   "cell_type": "code",
   "execution_count": 19,
   "metadata": {
    "slideshow": {
     "slide_type": "fragment"
    }
   },
   "outputs": [
    {
     "data": {
      "text/html": [
       "<div>\n",
       "<style scoped>\n",
       "    .dataframe tbody tr th:only-of-type {\n",
       "        vertical-align: middle;\n",
       "    }\n",
       "\n",
       "    .dataframe tbody tr th {\n",
       "        vertical-align: top;\n",
       "    }\n",
       "\n",
       "    .dataframe thead th {\n",
       "        text-align: right;\n",
       "    }\n",
       "</style>\n",
       "<table border=\"1\" class=\"dataframe\">\n",
       "  <thead>\n",
       "    <tr style=\"text-align: right;\">\n",
       "      <th></th>\n",
       "      <th>Sale Date</th>\n",
       "      <th>City</th>\n",
       "      <th>Zip Code</th>\n",
       "      <th>Year Built</th>\n",
       "      <th>Bed</th>\n",
       "      <th>Bath</th>\n",
       "      <th>Sale Price</th>\n",
       "      <th>Square Feet</th>\n",
       "      <th>Lot Size</th>\n",
       "      <th>$/SF</th>\n",
       "      <th>Zip Population</th>\n",
       "      <th>Zip SqMi</th>\n",
       "      <th>Zip Pop Density</th>\n",
       "      <th>Zip Mean HHI</th>\n",
       "    </tr>\n",
       "  </thead>\n",
       "  <tbody>\n",
       "    <tr>\n",
       "      <th>0</th>\n",
       "      <td>2021-06-23</td>\n",
       "      <td>Portland</td>\n",
       "      <td>97212</td>\n",
       "      <td>2013</td>\n",
       "      <td>3</td>\n",
       "      <td>4.0</td>\n",
       "      <td>740000</td>\n",
       "      <td>2030</td>\n",
       "      <td>2613</td>\n",
       "      <td>364.53</td>\n",
       "      <td>26991</td>\n",
       "      <td>2.775</td>\n",
       "      <td>9726.486486</td>\n",
       "      <td>146186</td>\n",
       "    </tr>\n",
       "    <tr>\n",
       "      <th>1</th>\n",
       "      <td>2021-05-21</td>\n",
       "      <td>Portland</td>\n",
       "      <td>97212</td>\n",
       "      <td>2013</td>\n",
       "      <td>5</td>\n",
       "      <td>4.0</td>\n",
       "      <td>1200000</td>\n",
       "      <td>3557</td>\n",
       "      <td>4791</td>\n",
       "      <td>337.36</td>\n",
       "      <td>26991</td>\n",
       "      <td>2.775</td>\n",
       "      <td>9726.486486</td>\n",
       "      <td>146186</td>\n",
       "    </tr>\n",
       "    <tr>\n",
       "      <th>2</th>\n",
       "      <td>2021-05-21</td>\n",
       "      <td>Portland</td>\n",
       "      <td>97212</td>\n",
       "      <td>1952</td>\n",
       "      <td>4</td>\n",
       "      <td>3.0</td>\n",
       "      <td>846000</td>\n",
       "      <td>3122</td>\n",
       "      <td>6098</td>\n",
       "      <td>270.98</td>\n",
       "      <td>26991</td>\n",
       "      <td>2.775</td>\n",
       "      <td>9726.486486</td>\n",
       "      <td>146186</td>\n",
       "    </tr>\n",
       "    <tr>\n",
       "      <th>3</th>\n",
       "      <td>2021-05-28</td>\n",
       "      <td>Portland</td>\n",
       "      <td>97212</td>\n",
       "      <td>2015</td>\n",
       "      <td>4</td>\n",
       "      <td>4.0</td>\n",
       "      <td>1300000</td>\n",
       "      <td>3358</td>\n",
       "      <td>4791</td>\n",
       "      <td>387.14</td>\n",
       "      <td>26991</td>\n",
       "      <td>2.775</td>\n",
       "      <td>9726.486486</td>\n",
       "      <td>146186</td>\n",
       "    </tr>\n",
       "    <tr>\n",
       "      <th>4</th>\n",
       "      <td>2021-06-14</td>\n",
       "      <td>Portland</td>\n",
       "      <td>97212</td>\n",
       "      <td>1957</td>\n",
       "      <td>3</td>\n",
       "      <td>3.0</td>\n",
       "      <td>1300000</td>\n",
       "      <td>3912</td>\n",
       "      <td>7405</td>\n",
       "      <td>332.31</td>\n",
       "      <td>26991</td>\n",
       "      <td>2.775</td>\n",
       "      <td>9726.486486</td>\n",
       "      <td>146186</td>\n",
       "    </tr>\n",
       "    <tr>\n",
       "      <th>...</th>\n",
       "      <td>...</td>\n",
       "      <td>...</td>\n",
       "      <td>...</td>\n",
       "      <td>...</td>\n",
       "      <td>...</td>\n",
       "      <td>...</td>\n",
       "      <td>...</td>\n",
       "      <td>...</td>\n",
       "      <td>...</td>\n",
       "      <td>...</td>\n",
       "      <td>...</td>\n",
       "      <td>...</td>\n",
       "      <td>...</td>\n",
       "      <td>...</td>\n",
       "    </tr>\n",
       "    <tr>\n",
       "      <th>14108</th>\n",
       "      <td>2020-07-28</td>\n",
       "      <td>Portland</td>\n",
       "      <td>97231</td>\n",
       "      <td>2011</td>\n",
       "      <td>4</td>\n",
       "      <td>3.0</td>\n",
       "      <td>610000</td>\n",
       "      <td>2300</td>\n",
       "      <td>435600</td>\n",
       "      <td>265.22</td>\n",
       "      <td>2630</td>\n",
       "      <td>77.670</td>\n",
       "      <td>33.861208</td>\n",
       "      <td>161621</td>\n",
       "    </tr>\n",
       "    <tr>\n",
       "      <th>14109</th>\n",
       "      <td>2020-08-13</td>\n",
       "      <td>Portland</td>\n",
       "      <td>97231</td>\n",
       "      <td>1997</td>\n",
       "      <td>5</td>\n",
       "      <td>3.0</td>\n",
       "      <td>649950</td>\n",
       "      <td>3104</td>\n",
       "      <td>41817</td>\n",
       "      <td>209.39</td>\n",
       "      <td>2630</td>\n",
       "      <td>77.670</td>\n",
       "      <td>33.861208</td>\n",
       "      <td>161621</td>\n",
       "    </tr>\n",
       "    <tr>\n",
       "      <th>14110</th>\n",
       "      <td>2020-12-07</td>\n",
       "      <td>Portland</td>\n",
       "      <td>97231</td>\n",
       "      <td>1993</td>\n",
       "      <td>2</td>\n",
       "      <td>2.0</td>\n",
       "      <td>508000</td>\n",
       "      <td>3918</td>\n",
       "      <td>1742400</td>\n",
       "      <td>129.66</td>\n",
       "      <td>2630</td>\n",
       "      <td>77.670</td>\n",
       "      <td>33.861208</td>\n",
       "      <td>161621</td>\n",
       "    </tr>\n",
       "    <tr>\n",
       "      <th>14111</th>\n",
       "      <td>2021-05-26</td>\n",
       "      <td>Portland</td>\n",
       "      <td>97231</td>\n",
       "      <td>1960</td>\n",
       "      <td>5</td>\n",
       "      <td>2.0</td>\n",
       "      <td>575000</td>\n",
       "      <td>2688</td>\n",
       "      <td>77536</td>\n",
       "      <td>213.91</td>\n",
       "      <td>2630</td>\n",
       "      <td>77.670</td>\n",
       "      <td>33.861208</td>\n",
       "      <td>161621</td>\n",
       "    </tr>\n",
       "    <tr>\n",
       "      <th>14112</th>\n",
       "      <td>2021-06-25</td>\n",
       "      <td>Corbett</td>\n",
       "      <td>97019</td>\n",
       "      <td>2001</td>\n",
       "      <td>3</td>\n",
       "      <td>4.0</td>\n",
       "      <td>1842500</td>\n",
       "      <td>5796</td>\n",
       "      <td>2079117</td>\n",
       "      <td>317.89</td>\n",
       "      <td>3054</td>\n",
       "      <td>162.101</td>\n",
       "      <td>18.840106</td>\n",
       "      <td>99528</td>\n",
       "    </tr>\n",
       "  </tbody>\n",
       "</table>\n",
       "<p>14113 rows × 14 columns</p>\n",
       "</div>"
      ],
      "text/plain": [
       "        Sale Date      City  Zip Code  Year Built  Bed  Bath  Sale Price  \\\n",
       "0      2021-06-23  Portland     97212        2013    3   4.0      740000   \n",
       "1      2021-05-21  Portland     97212        2013    5   4.0     1200000   \n",
       "2      2021-05-21  Portland     97212        1952    4   3.0      846000   \n",
       "3      2021-05-28  Portland     97212        2015    4   4.0     1300000   \n",
       "4      2021-06-14  Portland     97212        1957    3   3.0     1300000   \n",
       "...           ...       ...       ...         ...  ...   ...         ...   \n",
       "14108  2020-07-28  Portland     97231        2011    4   3.0      610000   \n",
       "14109  2020-08-13  Portland     97231        1997    5   3.0      649950   \n",
       "14110  2020-12-07  Portland     97231        1993    2   2.0      508000   \n",
       "14111  2021-05-26  Portland     97231        1960    5   2.0      575000   \n",
       "14112  2021-06-25   Corbett     97019        2001    3   4.0     1842500   \n",
       "\n",
       "       Square Feet  Lot Size    $/SF  Zip Population  Zip SqMi  \\\n",
       "0             2030      2613  364.53           26991     2.775   \n",
       "1             3557      4791  337.36           26991     2.775   \n",
       "2             3122      6098  270.98           26991     2.775   \n",
       "3             3358      4791  387.14           26991     2.775   \n",
       "4             3912      7405  332.31           26991     2.775   \n",
       "...            ...       ...     ...             ...       ...   \n",
       "14108         2300    435600  265.22            2630    77.670   \n",
       "14109         3104     41817  209.39            2630    77.670   \n",
       "14110         3918   1742400  129.66            2630    77.670   \n",
       "14111         2688     77536  213.91            2630    77.670   \n",
       "14112         5796   2079117  317.89            3054   162.101   \n",
       "\n",
       "       Zip Pop Density  Zip Mean HHI  \n",
       "0          9726.486486        146186  \n",
       "1          9726.486486        146186  \n",
       "2          9726.486486        146186  \n",
       "3          9726.486486        146186  \n",
       "4          9726.486486        146186  \n",
       "...                ...           ...  \n",
       "14108        33.861208        161621  \n",
       "14109        33.861208        161621  \n",
       "14110        33.861208        161621  \n",
       "14111        33.861208        161621  \n",
       "14112        18.840106         99528  \n",
       "\n",
       "[14113 rows x 14 columns]"
      ]
     },
     "execution_count": 19,
     "metadata": {},
     "output_type": "execute_result"
    }
   ],
   "source": [
    "# Load Data\n",
    "source = \"Resources/final_housing.csv\"\n",
    "df_data = pd.read_csv(source)\n",
    "df_data.tail()\n",
    "df_data = df_data.dropna()\n",
    "df_data"
   ]
  },
  {
   "cell_type": "code",
   "execution_count": 20,
   "metadata": {
    "scrolled": true
   },
   "outputs": [
    {
     "data": {
      "text/plain": [
       "Sale Date           object\n",
       "City                object\n",
       "Zip Code             int64\n",
       "Year Built           int64\n",
       "Bed                  int64\n",
       "Bath               float64\n",
       "Sale Price           int64\n",
       "Square Feet          int64\n",
       "Lot Size             int64\n",
       "$/SF               float64\n",
       "Zip Population       int64\n",
       "Zip SqMi           float64\n",
       "Zip Pop Density    float64\n",
       "Zip Mean HHI         int64\n",
       "dtype: object"
      ]
     },
     "execution_count": 20,
     "metadata": {},
     "output_type": "execute_result"
    }
   ],
   "source": [
    "df_data.dtypes"
   ]
  },
  {
   "cell_type": "code",
   "execution_count": 21,
   "metadata": {},
   "outputs": [
    {
     "data": {
      "text/html": [
       "<div>\n",
       "<style scoped>\n",
       "    .dataframe tbody tr th:only-of-type {\n",
       "        vertical-align: middle;\n",
       "    }\n",
       "\n",
       "    .dataframe tbody tr th {\n",
       "        vertical-align: top;\n",
       "    }\n",
       "\n",
       "    .dataframe thead th {\n",
       "        text-align: right;\n",
       "    }\n",
       "</style>\n",
       "<table border=\"1\" class=\"dataframe\">\n",
       "  <thead>\n",
       "    <tr style=\"text-align: right;\">\n",
       "      <th></th>\n",
       "      <th>Square Feet</th>\n",
       "      <th>Zip Mean HHI</th>\n",
       "    </tr>\n",
       "  </thead>\n",
       "  <tbody>\n",
       "    <tr>\n",
       "      <th>0</th>\n",
       "      <td>2030</td>\n",
       "      <td>146186</td>\n",
       "    </tr>\n",
       "    <tr>\n",
       "      <th>1</th>\n",
       "      <td>3557</td>\n",
       "      <td>146186</td>\n",
       "    </tr>\n",
       "    <tr>\n",
       "      <th>2</th>\n",
       "      <td>3122</td>\n",
       "      <td>146186</td>\n",
       "    </tr>\n",
       "    <tr>\n",
       "      <th>3</th>\n",
       "      <td>3358</td>\n",
       "      <td>146186</td>\n",
       "    </tr>\n",
       "    <tr>\n",
       "      <th>4</th>\n",
       "      <td>3912</td>\n",
       "      <td>146186</td>\n",
       "    </tr>\n",
       "    <tr>\n",
       "      <th>...</th>\n",
       "      <td>...</td>\n",
       "      <td>...</td>\n",
       "    </tr>\n",
       "    <tr>\n",
       "      <th>14108</th>\n",
       "      <td>2300</td>\n",
       "      <td>161621</td>\n",
       "    </tr>\n",
       "    <tr>\n",
       "      <th>14109</th>\n",
       "      <td>3104</td>\n",
       "      <td>161621</td>\n",
       "    </tr>\n",
       "    <tr>\n",
       "      <th>14110</th>\n",
       "      <td>3918</td>\n",
       "      <td>161621</td>\n",
       "    </tr>\n",
       "    <tr>\n",
       "      <th>14111</th>\n",
       "      <td>2688</td>\n",
       "      <td>161621</td>\n",
       "    </tr>\n",
       "    <tr>\n",
       "      <th>14112</th>\n",
       "      <td>5796</td>\n",
       "      <td>99528</td>\n",
       "    </tr>\n",
       "  </tbody>\n",
       "</table>\n",
       "<p>14113 rows × 2 columns</p>\n",
       "</div>"
      ],
      "text/plain": [
       "       Square Feet  Zip Mean HHI\n",
       "0             2030        146186\n",
       "1             3557        146186\n",
       "2             3122        146186\n",
       "3             3358        146186\n",
       "4             3912        146186\n",
       "...            ...           ...\n",
       "14108         2300        161621\n",
       "14109         3104        161621\n",
       "14110         3918        161621\n",
       "14111         2688        161621\n",
       "14112         5796         99528\n",
       "\n",
       "[14113 rows x 2 columns]"
      ]
     },
     "execution_count": 21,
     "metadata": {},
     "output_type": "execute_result"
    }
   ],
   "source": [
    "# Define the features set.\n",
    "X = df_data.copy()\n",
    "X = X.drop(\"Sale Price\", axis=1)\n",
    "X = X.drop(\"Sale Date\", axis=1)\n",
    "X = X.drop(\"City\", axis=1)\n",
    "X = X.drop(\"Zip Code\", axis=1)\n",
    "X = X.drop(\"Zip Population\", axis=1)\n",
    "X = X.drop(\"$/SF\", axis=1)\n",
    "X = X.drop(\"Bed\", axis=1)\n",
    "X = X.drop(\"Bath\", axis=1)\n",
    "X = X.drop(\"Year Built\", axis=1)\n",
    "X = X.drop(\"Zip Pop Density\", axis=1)\n",
    "X = X.drop(\"Lot Size\", axis=1)\n",
    "X = X.drop(\"Zip SqMi\", axis=1)\n",
    "X_list = list(X.columns)\n",
    "X"
   ]
  },
  {
   "cell_type": "code",
   "execution_count": 22,
   "metadata": {},
   "outputs": [
    {
     "data": {
      "text/plain": [
       "array([ 740000, 1200000,  846000, ...,  508000,  575000, 1842500],\n",
       "      dtype=int64)"
      ]
     },
     "execution_count": 22,
     "metadata": {},
     "output_type": "execute_result"
    }
   ],
   "source": [
    "# Define the target set.\n",
    "y = df_data[\"Sale Price\"].values\n",
    "y[:14113]\n"
   ]
  },
  {
   "cell_type": "code",
   "execution_count": 23,
   "metadata": {},
   "outputs": [
    {
     "data": {
      "text/plain": [
       "((10584, 2), (3529, 2))"
      ]
     },
     "execution_count": 23,
     "metadata": {},
     "output_type": "execute_result"
    }
   ],
   "source": [
    "# Splitting into Train and Test sets.\n",
    "X_train, X_test, y_train, y_test = train_test_split(X, y, random_state=42)\n",
    "X_train.shape, X_test.shape"
   ]
  },
  {
   "cell_type": "code",
   "execution_count": 24,
   "metadata": {},
   "outputs": [],
   "source": [
    "# Creating a StandardScaler instance.\n",
    "scaler = StandardScaler()\n",
    "# Fitting the Standard Scaler with the training data.\n",
    "X_scaler = scaler.fit(X_train)\n",
    "\n",
    "# Scaling the data.\n",
    "X_train_scaled = X_scaler.transform(X_train)\n",
    "X_test_scaled = X_scaler.transform(X_test)"
   ]
  },
  {
   "cell_type": "code",
   "execution_count": 25,
   "metadata": {},
   "outputs": [],
   "source": [
    "# Create a random forest regressor.\n",
    "rf_model = RandomForestRegressor(n_estimators=20, random_state=42, max_depth = 5)"
   ]
  },
  {
   "cell_type": "code",
   "execution_count": 26,
   "metadata": {},
   "outputs": [],
   "source": [
    "# Fitting the model\n",
    "rf_model = rf_model.fit(X_train_scaled, y_train)"
   ]
  },
  {
   "cell_type": "code",
   "execution_count": 27,
   "metadata": {},
   "outputs": [],
   "source": [
    "# Making predictions using the testing data.\n",
    "predictions = rf_model.predict(X_test_scaled)"
   ]
  },
  {
   "cell_type": "code",
   "execution_count": 28,
   "metadata": {},
   "outputs": [
    {
     "data": {
      "text/plain": [
       "array([517882.69131684, 677913.18180853, 834916.68644534, ...,\n",
       "       574400.38390676, 698604.57690337, 426023.94144869])"
      ]
     },
     "execution_count": 28,
     "metadata": {},
     "output_type": "execute_result"
    }
   ],
   "source": [
    "predictions"
   ]
  },
  {
   "cell_type": "code",
   "execution_count": 29,
   "metadata": {},
   "outputs": [],
   "source": [
    "# Calculate the absolute errors\n",
    "errors = abs(predictions - y_test)"
   ]
  },
  {
   "cell_type": "code",
   "execution_count": 30,
   "metadata": {},
   "outputs": [
    {
     "name": "stdout",
     "output_type": "stream",
     "text": [
      "Average error:  84328.46\n"
     ]
    }
   ],
   "source": [
    "print('Average error: ', round(np.mean(errors), 2))"
   ]
  },
  {
   "cell_type": "code",
   "execution_count": 31,
   "metadata": {},
   "outputs": [
    {
     "name": "stdout",
     "output_type": "stream",
     "text": [
      "Accuracy: 86.09 %.\n"
     ]
    }
   ],
   "source": [
    "# Calculate mean absolute percentage error (MAPE)\n",
    "mape = 100 * (errors / y_test)\n",
    "\n",
    "# Calculate and display accuracy\n",
    "accuracy = 100 - np.mean(mape)\n",
    "print('Accuracy:', round(accuracy, 2), '%.')"
   ]
  },
  {
   "cell_type": "code",
   "execution_count": 32,
   "metadata": {},
   "outputs": [
    {
     "ename": "ModuleNotFoundError",
     "evalue": "No module named 'pydot'",
     "output_type": "error",
     "traceback": [
      "\u001b[1;31m---------------------------------------------------------------------------\u001b[0m",
      "\u001b[1;31mModuleNotFoundError\u001b[0m                       Traceback (most recent call last)",
      "\u001b[1;32m~\\AppData\\Local\\Temp/ipykernel_9964/358565367.py\u001b[0m in \u001b[0;36m<module>\u001b[1;34m\u001b[0m\n\u001b[0;32m      1\u001b[0m \u001b[1;31m# Import tools needed for visualization\u001b[0m\u001b[1;33m\u001b[0m\u001b[1;33m\u001b[0m\u001b[0m\n\u001b[0;32m      2\u001b[0m \u001b[1;32mfrom\u001b[0m \u001b[0msklearn\u001b[0m\u001b[1;33m.\u001b[0m\u001b[0mtree\u001b[0m \u001b[1;32mimport\u001b[0m \u001b[0mexport_graphviz\u001b[0m\u001b[1;33m\u001b[0m\u001b[1;33m\u001b[0m\u001b[0m\n\u001b[1;32m----> 3\u001b[1;33m \u001b[1;32mimport\u001b[0m \u001b[0mpydot\u001b[0m\u001b[1;33m\u001b[0m\u001b[1;33m\u001b[0m\u001b[0m\n\u001b[0m\u001b[0;32m      4\u001b[0m \u001b[1;33m\u001b[0m\u001b[0m\n\u001b[0;32m      5\u001b[0m \u001b[1;31m# Pull out one tree from the forest\u001b[0m\u001b[1;33m\u001b[0m\u001b[1;33m\u001b[0m\u001b[0m\n",
      "\u001b[1;31mModuleNotFoundError\u001b[0m: No module named 'pydot'"
     ]
    }
   ],
   "source": [
    "# Import tools needed for visualization\n",
    "from sklearn.tree import export_graphviz\n",
    "import pydot\n",
    "\n",
    "# Pull out one tree from the forest\n",
    "tree = rf_model.estimators_[5]\n",
    "# Import tools needed for visualization\n",
    "from sklearn.tree import export_graphviz\n",
    "import pydot\n",
    "# Pull out one tree from the forest\n",
    "tree = rf_model.estimators_[5]\n",
    "# Export the image to a dot file\n",
    "export_graphviz(tree, out_file = 'tree3.dot', feature_names = X_list, rounded = True, precision = 1)\n",
    "# Use dot file to create a graph\n",
    "(graph, ) = pydot.graph_from_dot_file('tree3.dot')\n",
    "# Write graph to a png file\n",
    "graph.write_png('tree3.png')"
   ]
  },
  {
   "cell_type": "code",
   "execution_count": 33,
   "metadata": {},
   "outputs": [
    {
     "name": "stdout",
     "output_type": "stream",
     "text": [
      "Variable: Square Feet          Importance: 0.9\n",
      "Variable: Zip Mean HHI         Importance: 0.1\n"
     ]
    }
   ],
   "source": [
    "# Get numerical feature importances\n",
    "importances = list(rf_model.feature_importances_)\n",
    "# List of tuples with variable and importance\n",
    "feature_importances = [(feature, round(importance, 2)) for feature, importance in zip(X_list, importances)]\n",
    "# Sort the feature importances by most important first\n",
    "feature_importances = sorted(feature_importances, key = lambda x: x[1], reverse = True)\n",
    "# Print out the feature and importances \n",
    "[print('Variable: {:20} Importance: {}'.format(*pair)) for pair in feature_importances];"
   ]
  },
  {
   "cell_type": "code",
   "execution_count": 34,
   "metadata": {},
   "outputs": [
    {
     "data": {
      "image/png": "[encoded data removed]",
      "text/plain": [
       "<Figure size 720x720 with 1 Axes>"
      ]
     },
     "metadata": {
      "needs_background": "light"
     },
     "output_type": "display_data"
    }
   ],
   "source": [
    "plt.figure(figsize=(10,10))\n",
    "plt.scatter(y_test, predictions, c='crimson')\n",
    "#plt.yscale('log')\n",
    "#plt.xscale('log')\n",
    "\n",
    "p1 = max(max(predictions), max(y_test))\n",
    "p2 = min(min(predictions), min(y_test))\n",
    "plt.plot([p1, p2], [p1, p2])\n",
    "plt.xlabel('Sale Price', fontsize=15)\n",
    "plt.ylabel('Predictions', fontsize=15)\n",
    "plt.axis('equal')\n",
    "plt.show()"
   ]
  },
  {
   "cell_type": "code",
   "execution_count": 40,
   "metadata": {},
   "outputs": [],
   "source": [
    "# Export our model as pickle file\n",
    "pickle.dump(rf_model, open('rf_model.pkl','wb'))"
   ]
  },
  {
   "cell_type": "code",
   "execution_count": 42,
   "metadata": {},
   "outputs": [
    {
     "name": "stdout",
     "output_type": "stream",
     "text": [
      "[1461088.94446323]\n"
     ]
    }
   ],
   "source": [
    "model = pickle.load(open('rf_model.pkl','rb'))\n",
    "print(model.predict([[8000, 140000]]))"
   ]
  },
  {
   "cell_type": "code",
   "execution_count": null,
   "metadata": {},
   "outputs": [],
   "source": []
  }
 ],
 "metadata": {
  "anaconda-cloud": {},
  "kernelspec": {
   "display_name": "Python 3 (ipykernel)",
   "language": "python",
   "name": "python3"
  },
  "language_info": {
   "codemirror_mode": {
    "name": "ipython",
    "version": 3
   },
   "file_extension": ".py",
   "mimetype": "text/x-python",
   "name": "python",
   "nbconvert_exporter": "python",
   "pygments_lexer": "ipython3",
   "version": "3.9.7"
  },
  "varInspector": {
   "cols": {
    "lenName": 16,
    "lenType": 16,
    "lenVar": 40
   },
   "kernels_config": {
    "python": {
     "delete_cmd_postfix": "",
     "delete_cmd_prefix": "del ",
     "library": "var_list.py",
     "varRefreshCmd": "print(var_dic_list())"
    },
    "r": {
     "delete_cmd_postfix": ") ",
     "delete_cmd_prefix": "rm(",
     "library": "var_list.r",
     "varRefreshCmd": "cat(var_dic_list()) "
    }
   },
   "types_to_exclude": [
    "module",
    "function",
    "builtin_function_or_method",
    "instance",
    "_Feature"
   ],
   "window_display": false
  }
 },
 "nbformat": 4,
 "nbformat_minor": 2
}
