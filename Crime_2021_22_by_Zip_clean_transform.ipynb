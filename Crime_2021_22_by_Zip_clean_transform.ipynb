{
 "cells": [
  {
   "cell_type": "code",
   "execution_count": 1,
   "id": "389f063c",
   "metadata": {},
   "outputs": [
    {
     "name": "stdout",
     "output_type": "stream",
     "text": [
      "  Address   CaseNumber CrimeAgainst Neighborhood OccurDate  OccurTime  \\\n",
      "0     NaN  22-X5668706       Person   Centennial  1/1/2022        100   \n",
      "1     NaN  22-X5668767       Person     Parkrose  1/1/2022          0   \n",
      "2     NaN  22-X5668767      Society     Parkrose  1/1/2022          0   \n",
      "3     NaN  22-X5668818       Person    Woodstock  1/1/2022       1424   \n",
      "4     NaN  22-X5668818       Person    Woodstock  1/1/2022       1424   \n",
      "\n",
      "         OffenseCategory             OffenseType  OpenDataLat  OpenDataLon  \\\n",
      "0       Assault Offenses          Simple Assault          NaN          NaN   \n",
      "1       Assault Offenses      Aggravated Assault          NaN          NaN   \n",
      "2  Weapon Law Violations  Weapons Law Violations          NaN          NaN   \n",
      "3       Assault Offenses          Simple Assault          NaN          NaN   \n",
      "4   Kidnapping/Abduction    Kidnapping/Abduction          NaN          NaN   \n",
      "\n",
      "  ReportDate  OffenseCount  \n",
      "0   1/1/2022             1  \n",
      "1   1/1/2022             1  \n",
      "2   1/1/2022             1  \n",
      "3   1/1/2022             1  \n",
      "4   1/1/2022             1  \n"
     ]
    }
   ],
   "source": [
    "# Add our dependencies.\n",
    "import csv\n",
    "import os\n",
    "import pandas as pd\n",
    "\n",
    "# Create df from 2022\n",
    "df1 = pd.read_csv(\"Resources/CrimeData-2022.csv\")\n",
    "print(df1.head())\n"
   ]
  },
  {
   "cell_type": "code",
   "execution_count": 2,
   "id": "6cd12af2",
   "metadata": {},
   "outputs": [
    {
     "name": "stdout",
     "output_type": "stream",
     "text": [
      "Neighborhood\n",
      "Alameda               57\n",
      "Arbor Lodge          190\n",
      "Ardenwald             19\n",
      "Argay                196\n",
      "Arlington Heights     33\n",
      "Name: OffenseCount, dtype: int64\n"
     ]
    }
   ],
   "source": [
    "# Count Crimes by Neighborhood\n",
    "df3=df1.groupby('Neighborhood')['OffenseCount'].sum()\n",
    "print(df3.head())"
   ]
  },
  {
   "cell_type": "code",
   "execution_count": 3,
   "id": "38e3cbc6",
   "metadata": {},
   "outputs": [
    {
     "name": "stdout",
     "output_type": "stream",
     "text": [
      "  Address   CaseNumber CrimeAgainst         Neighborhood   OccurDate  \\\n",
      "0     NaN  21-X5543818       Person            Concordia  12/31/2020   \n",
      "1     NaN  21-X5543818     Property            Concordia  12/31/2020   \n",
      "2     NaN  21-X5543827       Person                Pearl    1/1/2021   \n",
      "3     NaN  21-X5543859       Person           Centennial    1/1/2021   \n",
      "4     NaN  21-X5543864       Person  Powellhurst-Gilbert    1/1/2021   \n",
      "\n",
      "   OccurTime   OffenseCategory         OffenseType  OpenDataLat  OpenDataLon  \\\n",
      "0       1230  Assault Offenses  Aggravated Assault          NaN          NaN   \n",
      "1       1230  Larceny Offenses   All Other Larceny          NaN          NaN   \n",
      "2        715  Assault Offenses      Simple Assault          NaN          NaN   \n",
      "3       2013  Assault Offenses  Aggravated Assault          NaN          NaN   \n",
      "4        816  Assault Offenses      Simple Assault          NaN          NaN   \n",
      "\n",
      "  ReportDate  OffenseCount  \n",
      "0   1/1/2021             1  \n",
      "1   1/1/2021             1  \n",
      "2   1/1/2021             1  \n",
      "3   1/1/2021             1  \n",
      "4   1/1/2021             1  \n"
     ]
    }
   ],
   "source": [
    "# Create df from 2021\n",
    "df2 = pd.read_csv(\"Resources/CrimeData-2021.csv\")\n",
    "print(df2.head())"
   ]
  },
  {
   "cell_type": "code",
   "execution_count": 4,
   "id": "1028918a",
   "metadata": {},
   "outputs": [
    {
     "name": "stdout",
     "output_type": "stream",
     "text": [
      "Neighborhood\n",
      "Alameda              214\n",
      "Arbor Lodge          643\n",
      "Ardenwald             29\n",
      "Argay                717\n",
      "Arlington Heights     91\n",
      "Name: OffenseCount, dtype: int64\n"
     ]
    }
   ],
   "source": [
    "# Count Crimes by Neighborhood\n",
    "df4=df2.groupby('Neighborhood')['OffenseCount'].sum()\n",
    "print(df4.head())"
   ]
  },
  {
   "cell_type": "code",
   "execution_count": 5,
   "id": "9c1d28cc",
   "metadata": {
    "scrolled": true
   },
   "outputs": [
    {
     "name": "stdout",
     "output_type": "stream",
     "text": [
      "                   OffenseCount_x  OffenseCount_y\n",
      "Neighborhood                                     \n",
      "Alameda                        57             214\n",
      "Arbor Lodge                   190             643\n",
      "Ardenwald                      19              29\n",
      "Argay                         196             717\n",
      "Arlington Heights              33              91\n"
     ]
    }
   ],
   "source": [
    "# Merge 2021 and 2022\n",
    "df5 = pd.merge(df3, df4, on='Neighborhood')\n",
    "print(df5.head())"
   ]
  },
  {
   "cell_type": "code",
   "execution_count": 6,
   "id": "601a0c81",
   "metadata": {},
   "outputs": [
    {
     "name": "stdout",
     "output_type": "stream",
     "text": [
      "                   Crimecounts\n",
      "Neighborhood                  \n",
      "Alameda                    271\n",
      "Arbor Lodge                833\n",
      "Ardenwald                   48\n",
      "Argay                      913\n",
      "Arlington Heights          124\n"
     ]
    }
   ],
   "source": [
    "#add 2021 and 2022\n",
    "sum_column = df5[\"OffenseCount_x\"] + df5[\"OffenseCount_y\"]\n",
    "df5[\"Crimecounts\"] = sum_column\n",
    "df6 =df5.drop(columns=['OffenseCount_x', 'OffenseCount_y'])\n",
    "print(df6.head())"
   ]
  },
  {
   "cell_type": "code",
   "execution_count": 7,
   "id": "296cd090",
   "metadata": {},
   "outputs": [],
   "source": [
    "#In excel I compared the neighborhood names between this file and the zip by neighborhood and ones that did not match got fixed "
   ]
  },
  {
   "cell_type": "code",
   "execution_count": 8,
   "id": "ceb107f7",
   "metadata": {},
   "outputs": [
    {
     "name": "stdout",
     "output_type": "stream",
     "text": [
      "        Neighborhood    Zip\n",
      "0            Alameda  97212\n",
      "1        Arbor Lodge  97217\n",
      "2          Ardenwald  97222\n",
      "3              Argay  97230\n",
      "4  Arlington Heights  97201\n"
     ]
    }
   ],
   "source": [
    "#Load Zip and Neighborhood relationships\n",
    "df7 = pd.read_excel(\"Resources/Zip_Neighborhood.xlsx\")\n",
    "print(df7.head())"
   ]
  },
  {
   "cell_type": "code",
   "execution_count": 9,
   "id": "45c90a93",
   "metadata": {},
   "outputs": [
    {
     "name": "stdout",
     "output_type": "stream",
     "text": [
      "        Neighborhood  Crimecounts    Zip\n",
      "0            Alameda          271  97212\n",
      "1        Arbor Lodge          833  97217\n",
      "2          Ardenwald           48  97222\n",
      "3              Argay          913  97230\n",
      "4  Arlington Heights          124  97201\n"
     ]
    }
   ],
   "source": [
    "# Merge crime with Zip\n",
    "df8 = pd.merge(df6, df7, on='Neighborhood')\n",
    "print(df8.head())"
   ]
  },
  {
   "cell_type": "code",
   "execution_count": 10,
   "id": "e86e116b",
   "metadata": {},
   "outputs": [
    {
     "name": "stdout",
     "output_type": "stream",
     "text": [
      "Zip\n",
      "97201     448.400000\n",
      "97202     721.833333\n",
      "97203     731.000000\n",
      "97204    2774.666667\n",
      "97205    3291.500000\n",
      "Name: Crimecounts, dtype: float64\n"
     ]
    }
   ],
   "source": [
    "#Group by zip codes and calculate average\n",
    "df9 = df8.groupby('Zip')['Crimecounts'].mean()\n",
    "print(df9.head())"
   ]
  },
  {
   "cell_type": "code",
   "execution_count": 11,
   "id": "778cb911",
   "metadata": {},
   "outputs": [
    {
     "name": "stdout",
     "output_type": "stream",
     "text": [
      "Zip\n",
      "97201     448.0\n",
      "97202     722.0\n",
      "97203     731.0\n",
      "97204    2775.0\n",
      "97205    3292.0\n",
      "Name: Crimecounts, dtype: float64\n"
     ]
    }
   ],
   "source": [
    "#Round numbers\n",
    "df10 = df9.round()\n",
    "print(df10.head())"
   ]
  },
  {
   "cell_type": "code",
   "execution_count": 12,
   "id": "fea3dd7b",
   "metadata": {},
   "outputs": [],
   "source": [
    "#export final cleaned and transformed file to CSV\n",
    "df10.to_csv(\"Resources/crimes_by_zip.csv\")"
   ]
  },
  {
   "cell_type": "code",
   "execution_count": 13,
   "id": "7f946b83",
   "metadata": {},
   "outputs": [],
   "source": []
  },
  {
   "cell_type": "code",
   "execution_count": null,
   "id": "e83b3a3a",
   "metadata": {},
   "outputs": [],
   "source": []
  }
 ],
 "metadata": {
  "kernelspec": {
   "display_name": "PythonData",
   "language": "python",
   "name": "pythondata"
  },
  "language_info": {
   "codemirror_mode": {
    "name": "ipython",
    "version": 3
   },
   "file_extension": ".py",
   "mimetype": "text/x-python",
   "name": "python",
   "nbconvert_exporter": "python",
   "pygments_lexer": "ipython3",
   "version": "3.9.7"
  }
 },
 "nbformat": 4,
 "nbformat_minor": 5
}
